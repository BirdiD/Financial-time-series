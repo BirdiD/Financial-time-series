{
  "nbformat": 4,
  "nbformat_minor": 0,
  "metadata": {
    "colab": {
      "name": "ARIMA.ipynb",
      "provenance": [],
      "collapsed_sections": [],
      "toc_visible": true
    },
    "kernelspec": {
      "display_name": "Python 3",
      "name": "python3"
    },
    "accelerator": "GPU"
  },
  "cells": [
    {
      "cell_type": "markdown",
      "metadata": {
        "id": "r9BBttURN_VB"
      },
      "source": [
        "# **Setup**"
      ]
    },
    {
      "cell_type": "code",
      "metadata": {
        "colab": {
          "base_uri": "https://localhost:8080/"
        },
        "id": "vjgLFjGvC4gF",
        "outputId": "abead7c5-ef9d-4f66-ebaa-0e024fa2a78a"
      },
      "source": [
        "pip install stockstats"
      ],
      "execution_count": null,
      "outputs": [
        {
          "output_type": "stream",
          "text": [
            "Collecting stockstats\n",
            "  Downloading https://files.pythonhosted.org/packages/32/41/d3828c5bc0a262cb3112a4024108a3b019c183fa3b3078bff34bf25abf91/stockstats-0.3.2-py2.py3-none-any.whl\n",
            "Collecting int-date>=0.1.7\n",
            "  Downloading https://files.pythonhosted.org/packages/43/27/31803df15173ab341fe7548c14154b54227dfd8f630daa09a1c6e7db52f7/int_date-0.1.8-py2.py3-none-any.whl\n",
            "Requirement already satisfied: numpy>=1.9.2 in /usr/local/lib/python3.7/dist-packages (from stockstats) (1.19.5)\n",
            "Requirement already satisfied: pandas>=0.18.1 in /usr/local/lib/python3.7/dist-packages (from stockstats) (1.1.5)\n",
            "Requirement already satisfied: six>=1.9.0 in /usr/local/lib/python3.7/dist-packages (from int-date>=0.1.7->stockstats) (1.15.0)\n",
            "Requirement already satisfied: python-dateutil>=2.4.2 in /usr/local/lib/python3.7/dist-packages (from int-date>=0.1.7->stockstats) (2.8.1)\n",
            "Requirement already satisfied: pytz>=2017.2 in /usr/local/lib/python3.7/dist-packages (from pandas>=0.18.1->stockstats) (2018.9)\n",
            "Installing collected packages: int-date, stockstats\n",
            "Successfully installed int-date-0.1.8 stockstats-0.3.2\n"
          ],
          "name": "stdout"
        }
      ]
    },
    {
      "cell_type": "code",
      "metadata": {
        "colab": {
          "base_uri": "https://localhost:8080/"
        },
        "id": "QVgKdlJ3NqKp",
        "outputId": "3cc34abd-aafe-408d-d9e9-781a884809b7"
      },
      "source": [
        "import pandas_datareader.data as web\n",
        "import datetime as dt\n",
        "from datetime import timedelta\n",
        "import pandas as pd\n",
        "import matplotlib.pyplot as plt\n",
        "from statsmodels.graphics.tsaplots import plot_acf, plot_pacf\n",
        "import numpy as np\n",
        "import seaborn as sns\n",
        "from stockstats import StockDataFrame as Sdf\n",
        "import scipy \n",
        "import pywt\n",
        "from sklearn.metrics import confusion_matrix\n",
        "import math\n",
        "from pandas.tseries.offsets import CustomBusinessDay, DateOffset, WeekOfMonth\n",
        "from pandas.tseries.holiday import sunday_to_monday, AbstractHolidayCalendar, Holiday, USMemorialDay, USLaborDay, USColumbusDay, USThanksgivingDay\n",
        "from sklearn import metrics\n",
        "from rpy2.robjects import pandas2ri\n",
        "import rpy2.robjects as objects \n",
        "from statsmodels.tsa.api import VAR\n",
        "from statsmodels.tsa.stattools import adfuller\n",
        "from statsmodels.tools.eval_measures import rmse, aic\n",
        "import warnings\n",
        "warnings.filterwarnings('ignore')\n",
        "print(\"pandas version %s\" % pd.__version__)"
      ],
      "execution_count": null,
      "outputs": [
        {
          "output_type": "stream",
          "text": [
            "/usr/local/lib/python3.7/dist-packages/statsmodels/tools/_testing.py:19: FutureWarning: pandas.util.testing is deprecated. Use the functions in the public API at pandas.testing instead.\n",
            "  import pandas.util.testing as tm\n"
          ],
          "name": "stderr"
        },
        {
          "output_type": "stream",
          "text": [
            "pandas version 1.1.5\n"
          ],
          "name": "stdout"
        }
      ]
    },
    {
      "cell_type": "code",
      "metadata": {
        "id": "VERMQ3oKyvJ0"
      },
      "source": [
        "sns.set(rc={'figure.figsize':(20, 7)})"
      ],
      "execution_count": null,
      "outputs": []
    },
    {
      "cell_type": "code",
      "metadata": {
        "id": "cT7lgRCMOFkZ"
      },
      "source": [
        "# Code to read csv file into Colaboratory:\n",
        "from pydrive.auth import GoogleAuth\n",
        "from pydrive.drive import GoogleDrive\n",
        "from google.colab import auth\n",
        "from oauth2client.client import GoogleCredentials\n",
        "# Authenticate and create the PyDrive client\n",
        "auth.authenticate_user()\n",
        "gauth = GoogleAuth()\n",
        "gauth.credentials = GoogleCredentials.get_application_default()\n",
        "drive = GoogleDrive(gauth)"
      ],
      "execution_count": null,
      "outputs": []
    },
    {
      "cell_type": "code",
      "metadata": {
        "id": "9vzTd0B-OJoj"
      },
      "source": [
        "# Load dataset from google drive\n",
        "id = '1ATmaZrLwm1_hE1I1p7s2S1rjpLXv1ozx'\n",
        "downloaded = drive.CreateFile({'id':id}) \n",
        "downloaded.GetContentFile('dataset.xlsx')"
      ],
      "execution_count": null,
      "outputs": []
    },
    {
      "cell_type": "markdown",
      "metadata": {
        "id": "6v3FyboEPAps"
      },
      "source": [
        "# **Preprocessing**"
      ]
    },
    {
      "cell_type": "markdown",
      "metadata": {
        "id": "1Z0DqsRMPb11"
      },
      "source": [
        "---\n",
        "\n",
        "**Hypothesis: Assume that the missing values of the series (weekly, monthly) are constant until the date of publication of a new data item.** \n",
        "\n",
        "---\n",
        "\n"
      ]
    },
    {
      "cell_type": "code",
      "metadata": {
        "id": "axR05I7lPOem",
        "colab": {
          "base_uri": "https://localhost:8080/",
          "height": 631
        },
        "outputId": "f4e4bd5e-261b-4b0b-d02a-6af460f087f5"
      },
      "source": [
        "df_BcBalance = pd.read_excel(\"dataset.xlsx\", sheet_name = 'Bilan BC')\n",
        "df_BcBalance.set_index('Date', inplace = True, drop = True)\n",
        "df_BcBalance = df_BcBalance.resample('D').fillna(method = 'ffill')\n",
        "\n",
        "df_daily_data = pd.read_excel(\"dataset.xlsx\", sheet_name = 'Données journalières')\n",
        "df_daily_data.set_index('Date', inplace = True, drop = True)\n",
        "del df_daily_data['CRB - Bétail']\n",
        "\n",
        "df_EconomicalSurprise = pd.read_excel(\"dataset.xlsx\", sheet_name = 'Surprise économique')\n",
        "df_EconomicalSurprise.set_index('Date', inplace = True, drop = True)\n",
        "df_EconomicalSurprise = df_EconomicalSurprise.resample('D').fillna(method = 'ffill')\n",
        "\n",
        "df_FedBalance = pd.read_excel(\"dataset.xlsx\", sheet_name = 'Bilan FED')\n",
        "df_FedBalance.set_index('Date', inplace = True, drop = True)\n",
        "df_FedBalance = df_FedBalance.resample('D').fillna(method = 'ffill')\n",
        "\n",
        "df_gold = pd.read_excel(\"dataset.xlsx\", sheet_name = 'Or')\n",
        "df_gold.set_index('Date', inplace = True, drop = True)\n",
        "df_gold = df_gold.resample('D').fillna(method = 'ffill')\n",
        "\n",
        "df_InflationUnemployment = pd.read_excel(\"dataset.xlsx\", sheet_name = 'Chômage & Inflation')\n",
        "df_InflationUnemployment.set_index('Date', inplace = True, drop = True)\n",
        "df_InflationUnemployment = df_InflationUnemployment.resample('D').fillna(method = 'ffill')\n",
        "\n",
        "df_oil = pd.read_excel(\"dataset.xlsx\", sheet_name = 'Pétrole')\n",
        "df_oil.set_index('Date', inplace = True, drop = True)\n",
        "df_oil = df_oil.resample('D').fillna(method = 'ffill')\n",
        "\n",
        "df_ProductionCapacity = pd.read_excel(\"dataset.xlsx\", sheet_name = 'Capacité de production')\n",
        "df_ProductionCapacity.set_index('Date', inplace = True, drop = True)\n",
        "df_ProductionCapacity = df_ProductionCapacity.resample('D').fillna(method = 'ffill')\n",
        "\n",
        "df_SPX = pd.DataFrame(df_daily_data['SPX Index'].copy())\n",
        "df_SPX.index = df_daily_data.index.copy()\n",
        "#del df_daily_data['SPX Index']\n",
        "\n",
        "df_daily_data = df_daily_data.join(df_BcBalance).join(df_EconomicalSurprise).join(df_gold).join(df_InflationUnemployment).join(df_ProductionCapacity)\n",
        "df_daily_data = df_daily_data[(df_daily_data.index >= '2000-12-31') & (df_daily_data.index <= '2019-12-31')]\n",
        "\n",
        "df_SPX = pd.DataFrame(df_daily_data['SPX Index'].copy())\n",
        "df_SPX.index = df_daily_data.index.copy()\n",
        "df_daily_data.head(10)"
      ],
      "execution_count": null,
      "outputs": [
        {
          "output_type": "execute_result",
          "data": {
            "text/html": [
              "<div>\n",
              "<style scoped>\n",
              "    .dataframe tbody tr th:only-of-type {\n",
              "        vertical-align: middle;\n",
              "    }\n",
              "\n",
              "    .dataframe tbody tr th {\n",
              "        vertical-align: top;\n",
              "    }\n",
              "\n",
              "    .dataframe thead th {\n",
              "        text-align: right;\n",
              "    }\n",
              "</style>\n",
              "<table border=\"1\" class=\"dataframe\">\n",
              "  <thead>\n",
              "    <tr style=\"text-align: right;\">\n",
              "      <th></th>\n",
              "      <th>SPX Index</th>\n",
              "      <th>Vix Index</th>\n",
              "      <th>GDP US</th>\n",
              "      <th>Taux 10 ans US</th>\n",
              "      <th>FDTR Index</th>\n",
              "      <th>Indice CRB</th>\n",
              "      <th>CRB - Métaux</th>\n",
              "      <th>CRB - Industrie de base</th>\n",
              "      <th>CRB - Alimentaire</th>\n",
              "      <th>CRB - Textile</th>\n",
              "      <th>MACD</th>\n",
              "      <th>BSPGCPUS Index</th>\n",
              "      <th>Surprise économique</th>\n",
              "      <th>Or</th>\n",
              "      <th>Chômage US</th>\n",
              "      <th>Confiance des consommateurs US</th>\n",
              "      <th>Inflation US</th>\n",
              "      <th>CPTICHNG Index</th>\n",
              "    </tr>\n",
              "    <tr>\n",
              "      <th>Date</th>\n",
              "      <th></th>\n",
              "      <th></th>\n",
              "      <th></th>\n",
              "      <th></th>\n",
              "      <th></th>\n",
              "      <th></th>\n",
              "      <th></th>\n",
              "      <th></th>\n",
              "      <th></th>\n",
              "      <th></th>\n",
              "      <th></th>\n",
              "      <th></th>\n",
              "      <th></th>\n",
              "      <th></th>\n",
              "      <th></th>\n",
              "      <th></th>\n",
              "      <th></th>\n",
              "      <th></th>\n",
              "    </tr>\n",
              "  </thead>\n",
              "  <tbody>\n",
              "    <tr>\n",
              "      <th>2000-12-31</th>\n",
              "      <td>0.00</td>\n",
              "      <td>26.85</td>\n",
              "      <td>3.0</td>\n",
              "      <td>5.112</td>\n",
              "      <td>6.5</td>\n",
              "      <td>223.99</td>\n",
              "      <td>214.03</td>\n",
              "      <td>255.81</td>\n",
              "      <td>184.74</td>\n",
              "      <td>245.74</td>\n",
              "      <td>0.000000</td>\n",
              "      <td>5.7</td>\n",
              "      <td>-0.218</td>\n",
              "      <td>272.0</td>\n",
              "      <td>3.9</td>\n",
              "      <td>128.55</td>\n",
              "      <td>3.4</td>\n",
              "      <td>79.9609</td>\n",
              "    </tr>\n",
              "    <tr>\n",
              "      <th>2001-01-01</th>\n",
              "      <td>0.00</td>\n",
              "      <td>26.85</td>\n",
              "      <td>3.0</td>\n",
              "      <td>5.114</td>\n",
              "      <td>6.5</td>\n",
              "      <td>223.99</td>\n",
              "      <td>214.03</td>\n",
              "      <td>255.81</td>\n",
              "      <td>184.74</td>\n",
              "      <td>245.74</td>\n",
              "      <td>0.000000</td>\n",
              "      <td>5.7</td>\n",
              "      <td>-0.218</td>\n",
              "      <td>272.0</td>\n",
              "      <td>3.9</td>\n",
              "      <td>128.55</td>\n",
              "      <td>3.4</td>\n",
              "      <td>79.9609</td>\n",
              "    </tr>\n",
              "    <tr>\n",
              "      <th>2001-01-02</th>\n",
              "      <td>-2.80</td>\n",
              "      <td>29.99</td>\n",
              "      <td>3.0</td>\n",
              "      <td>4.915</td>\n",
              "      <td>6.5</td>\n",
              "      <td>222.54</td>\n",
              "      <td>211.24</td>\n",
              "      <td>253.76</td>\n",
              "      <td>183.96</td>\n",
              "      <td>244.15</td>\n",
              "      <td>-15.078643</td>\n",
              "      <td>5.7</td>\n",
              "      <td>-0.218</td>\n",
              "      <td>270.0</td>\n",
              "      <td>3.9</td>\n",
              "      <td>128.55</td>\n",
              "      <td>3.4</td>\n",
              "      <td>79.9609</td>\n",
              "    </tr>\n",
              "    <tr>\n",
              "      <th>2001-01-03</th>\n",
              "      <td>5.01</td>\n",
              "      <td>26.60</td>\n",
              "      <td>3.0</td>\n",
              "      <td>5.158</td>\n",
              "      <td>6.0</td>\n",
              "      <td>222.53</td>\n",
              "      <td>210.76</td>\n",
              "      <td>253.53</td>\n",
              "      <td>184.17</td>\n",
              "      <td>244.15</td>\n",
              "      <td>-11.375763</td>\n",
              "      <td>5.7</td>\n",
              "      <td>-0.218</td>\n",
              "      <td>269.3</td>\n",
              "      <td>3.9</td>\n",
              "      <td>128.55</td>\n",
              "      <td>3.4</td>\n",
              "      <td>79.9609</td>\n",
              "    </tr>\n",
              "    <tr>\n",
              "      <th>2001-01-04</th>\n",
              "      <td>-1.06</td>\n",
              "      <td>26.97</td>\n",
              "      <td>3.0</td>\n",
              "      <td>5.039</td>\n",
              "      <td>6.0</td>\n",
              "      <td>222.80</td>\n",
              "      <td>210.62</td>\n",
              "      <td>253.95</td>\n",
              "      <td>184.29</td>\n",
              "      <td>243.49</td>\n",
              "      <td>-9.479367</td>\n",
              "      <td>5.7</td>\n",
              "      <td>-0.218</td>\n",
              "      <td>268.4</td>\n",
              "      <td>3.9</td>\n",
              "      <td>128.55</td>\n",
              "      <td>3.4</td>\n",
              "      <td>79.9609</td>\n",
              "    </tr>\n",
              "    <tr>\n",
              "      <th>2001-01-05</th>\n",
              "      <td>-2.62</td>\n",
              "      <td>28.67</td>\n",
              "      <td>3.0</td>\n",
              "      <td>4.931</td>\n",
              "      <td>6.0</td>\n",
              "      <td>223.70</td>\n",
              "      <td>210.83</td>\n",
              "      <td>254.36</td>\n",
              "      <td>185.68</td>\n",
              "      <td>243.43</td>\n",
              "      <td>-10.676785</td>\n",
              "      <td>5.7</td>\n",
              "      <td>-0.218</td>\n",
              "      <td>269.0</td>\n",
              "      <td>3.9</td>\n",
              "      <td>128.55</td>\n",
              "      <td>3.4</td>\n",
              "      <td>79.9609</td>\n",
              "    </tr>\n",
              "    <tr>\n",
              "      <th>2001-01-06</th>\n",
              "      <td>0.00</td>\n",
              "      <td>28.67</td>\n",
              "      <td>3.0</td>\n",
              "      <td>4.931</td>\n",
              "      <td>6.0</td>\n",
              "      <td>223.70</td>\n",
              "      <td>210.83</td>\n",
              "      <td>254.36</td>\n",
              "      <td>185.68</td>\n",
              "      <td>243.43</td>\n",
              "      <td>0.000000</td>\n",
              "      <td>5.7</td>\n",
              "      <td>-0.218</td>\n",
              "      <td>269.0</td>\n",
              "      <td>3.9</td>\n",
              "      <td>128.55</td>\n",
              "      <td>3.4</td>\n",
              "      <td>79.9609</td>\n",
              "    </tr>\n",
              "    <tr>\n",
              "      <th>2001-01-07</th>\n",
              "      <td>0.00</td>\n",
              "      <td>28.67</td>\n",
              "      <td>3.0</td>\n",
              "      <td>4.931</td>\n",
              "      <td>6.0</td>\n",
              "      <td>223.70</td>\n",
              "      <td>210.83</td>\n",
              "      <td>254.36</td>\n",
              "      <td>185.68</td>\n",
              "      <td>243.43</td>\n",
              "      <td>0.000000</td>\n",
              "      <td>5.7</td>\n",
              "      <td>-0.218</td>\n",
              "      <td>269.0</td>\n",
              "      <td>3.9</td>\n",
              "      <td>128.55</td>\n",
              "      <td>3.4</td>\n",
              "      <td>79.9609</td>\n",
              "    </tr>\n",
              "    <tr>\n",
              "      <th>2001-01-08</th>\n",
              "      <td>-0.19</td>\n",
              "      <td>29.84</td>\n",
              "      <td>3.0</td>\n",
              "      <td>4.956</td>\n",
              "      <td>6.0</td>\n",
              "      <td>224.48</td>\n",
              "      <td>211.59</td>\n",
              "      <td>255.17</td>\n",
              "      <td>186.40</td>\n",
              "      <td>244.80</td>\n",
              "      <td>-11.691893</td>\n",
              "      <td>5.7</td>\n",
              "      <td>-0.218</td>\n",
              "      <td>269.0</td>\n",
              "      <td>3.9</td>\n",
              "      <td>128.55</td>\n",
              "      <td>3.4</td>\n",
              "      <td>79.9609</td>\n",
              "    </tr>\n",
              "    <tr>\n",
              "      <th>2001-01-09</th>\n",
              "      <td>0.38</td>\n",
              "      <td>27.99</td>\n",
              "      <td>3.0</td>\n",
              "      <td>5.000</td>\n",
              "      <td>6.0</td>\n",
              "      <td>224.96</td>\n",
              "      <td>212.05</td>\n",
              "      <td>255.90</td>\n",
              "      <td>186.60</td>\n",
              "      <td>244.45</td>\n",
              "      <td>-11.959890</td>\n",
              "      <td>5.7</td>\n",
              "      <td>-0.218</td>\n",
              "      <td>268.5</td>\n",
              "      <td>3.9</td>\n",
              "      <td>128.55</td>\n",
              "      <td>3.4</td>\n",
              "      <td>79.9609</td>\n",
              "    </tr>\n",
              "  </tbody>\n",
              "</table>\n",
              "</div>"
            ],
            "text/plain": [
              "            SPX Index  Vix Index  ...  Inflation US  CPTICHNG Index\n",
              "Date                              ...                              \n",
              "2000-12-31       0.00      26.85  ...           3.4         79.9609\n",
              "2001-01-01       0.00      26.85  ...           3.4         79.9609\n",
              "2001-01-02      -2.80      29.99  ...           3.4         79.9609\n",
              "2001-01-03       5.01      26.60  ...           3.4         79.9609\n",
              "2001-01-04      -1.06      26.97  ...           3.4         79.9609\n",
              "2001-01-05      -2.62      28.67  ...           3.4         79.9609\n",
              "2001-01-06       0.00      28.67  ...           3.4         79.9609\n",
              "2001-01-07       0.00      28.67  ...           3.4         79.9609\n",
              "2001-01-08      -0.19      29.84  ...           3.4         79.9609\n",
              "2001-01-09       0.38      27.99  ...           3.4         79.9609\n",
              "\n",
              "[10 rows x 18 columns]"
            ]
          },
          "metadata": {
            "tags": []
          },
          "execution_count": 6
        }
      ]
    },
    {
      "cell_type": "code",
      "metadata": {
        "id": "EPvftXvj7s8l"
      },
      "source": [
        "sns.set(rc={'figure.figsize':(20, 9)})"
      ],
      "execution_count": null,
      "outputs": []
    },
    {
      "cell_type": "code",
      "metadata": {
        "colab": {
          "base_uri": "https://localhost:8080/",
          "height": 543
        },
        "id": "yej54Fvs6280",
        "outputId": "6a92f152-3e9d-4e2e-bd9e-133ae045862c"
      },
      "source": [
        "fig, ((ax1, ax2), (ax3, ax4)) = plt.subplots(2, 2, figsize=(14,8))\n",
        "fig.suptitle('Macroeconomic indicators')\n",
        "ax1.plot(df_daily_data['Vix Index'])\n",
        "ax1.set_title(\"Vix Index\")\n",
        "ax2.plot(df_daily_data['GDP US'], 'tab:orange')\n",
        "ax2.set_title(\"GDP US\")\n",
        "ax3.plot(df_daily_data['Taux 10 ans US'], 'tab:green')\n",
        "ax3.set_title(\"10 years rate\")\n",
        "ax4.plot(df_daily_data['FDTR Index'], 'tab:red')\n",
        "ax4.set_title(\"FDTR Index\")\n",
        "\n",
        "for ax in fig.get_axes():\n",
        "    ax.label_outer()"
      ],
      "execution_count": null,
      "outputs": [
        {
          "output_type": "display_data",
          "data": {
            "image/png": "[encoded data removed]",
            "text/plain": [
              "<Figure size 1008x576 with 4 Axes>"
            ]
          },
          "metadata": {
            "tags": []
          }
        }
      ]
    },
    {
      "cell_type": "code",
      "metadata": {
        "colab": {
          "base_uri": "https://localhost:8080/",
          "height": 427
        },
        "id": "mgTXVZdg9kDj",
        "outputId": "9873e097-33cf-40b0-ec5b-39bc32fba2d8"
      },
      "source": [
        "plt.figure(figsize=(14,6))\n",
        "plt.plot(df_daily_data[\"Indice CRB\"], label=\"CRB Index\")\n",
        "plt.plot(df_daily_data[\"CRB - Métaux\"], label=\"CRB Metals\") \n",
        "plt.plot(df_daily_data[\"CRB - Industrie de base\"], label=\"Basic industries\")\n",
        "plt.plot(df_daily_data[\"CRB - Alimentaire\"], label=\"Livestock\")\n",
        "#plt.ylabel('commo', fontsize=16)\n",
        "plt.xlabel('Date')\n",
        "plt.title('Commodity') \n",
        "plt.legend()"
      ],
      "execution_count": null,
      "outputs": [
        {
          "output_type": "execute_result",
          "data": {
            "text/plain": [
              "<matplotlib.legend.Legend at 0x7f5444365350>"
            ]
          },
          "metadata": {
            "tags": []
          },
          "execution_count": 17
        },
        {
          "output_type": "display_data",
          "data": {
            "image/png": "[encoded data removed]",
            "text/plain": [
              "<Figure size 1008x432 with 1 Axes>"
            ]
          },
          "metadata": {
            "tags": []
          }
        }
      ]
    },
    {
      "cell_type": "markdown",
      "metadata": {
        "id": "0GrKKayQUA7p"
      },
      "source": [
        "## **Compute closing price**"
      ]
    },
    {
      "cell_type": "code",
      "metadata": {
        "id": "cJ3fgdj-PeEq"
      },
      "source": [
        "def compute_price(df):\n",
        "  df['Closing Price'] = 1320.28*(1+df['SPX Index'].copy()/100).cumprod()\n",
        "  return df"
      ],
      "execution_count": null,
      "outputs": []
    },
    {
      "cell_type": "code",
      "metadata": {
        "id": "RBxBTBAqC8ft"
      },
      "source": [
        "df_daily_data = compute_price(df_daily_data)"
      ],
      "execution_count": null,
      "outputs": []
    },
    {
      "cell_type": "markdown",
      "metadata": {
        "id": "5yZR9mVqW6M8"
      },
      "source": [
        "## **WAVELET TRANSFORM : Denoise closing price before making it stationary**"
      ]
    },
    {
      "cell_type": "markdown",
      "metadata": {
        "id": "6_WWy75nyUjL"
      },
      "source": [
        "**Compute a function that determine the best wavelet transformation based on criteria like rmse & snr**"
      ]
    },
    {
      "cell_type": "code",
      "metadata": {
        "id": "RzpDk2ZqI5Zb"
      },
      "source": [
        "def get_best_wavelet(df):\n",
        "    wavelet_list = ['haar', 'sym3','coif3', 'db3']\n",
        "    scale = 0.05\n",
        "    dic = {}\n",
        "    for wavelet in wavelet_list:\n",
        "        coefficients = pywt.wavedec(df, wavelet, mode = 'smooth')\n",
        "        coefficients[1:] = [pywt.threshold(i, value = scale * df.max(), mode = 'garotte') for i in coefficients[1:]]\n",
        "        reconstructed_SPX = pywt.waverec(coefficients, wavelet, mode = 'smooth')\n",
        "        snr = 10*math.log(sum(reconstructed_SPX**2)/sum((df-reconstructed_SPX)**2))\n",
        "        rmse = math.sqrt(metrics.mean_squared_error(df, reconstructed_SPX))\n",
        "        dic[wavelet] = [wavelet, snr, rmse]\n",
        "    return dic\n",
        "dic = get_best_wavelet(df_daily_data['Closing Price'])\n",
        "df_params = pd.DataFrame(dic, index=['wavelet', 'SNR', 'RMSE'])"
      ],
      "execution_count": null,
      "outputs": []
    },
    {
      "cell_type": "code",
      "metadata": {
        "colab": {
          "base_uri": "https://localhost:8080/",
          "height": 142
        },
        "id": "-QBF4q11JJve",
        "outputId": "4c5056ef-c683-4f39-d30b-4ce3fe2444e0"
      },
      "source": [
        "df_params"
      ],
      "execution_count": null,
      "outputs": [
        {
          "output_type": "execute_result",
          "data": {
            "text/html": [
              "<div>\n",
              "<style scoped>\n",
              "    .dataframe tbody tr th:only-of-type {\n",
              "        vertical-align: middle;\n",
              "    }\n",
              "\n",
              "    .dataframe tbody tr th {\n",
              "        vertical-align: top;\n",
              "    }\n",
              "\n",
              "    .dataframe thead th {\n",
              "        text-align: right;\n",
              "    }\n",
              "</style>\n",
              "<table border=\"1\" class=\"dataframe\">\n",
              "  <thead>\n",
              "    <tr style=\"text-align: right;\">\n",
              "      <th></th>\n",
              "      <th>haar</th>\n",
              "      <th>sym3</th>\n",
              "      <th>coif3</th>\n",
              "      <th>db3</th>\n",
              "    </tr>\n",
              "  </thead>\n",
              "  <tbody>\n",
              "    <tr>\n",
              "      <th>wavelet</th>\n",
              "      <td>haar</td>\n",
              "      <td>sym3</td>\n",
              "      <td>coif3</td>\n",
              "      <td>db3</td>\n",
              "    </tr>\n",
              "    <tr>\n",
              "      <th>SNR</th>\n",
              "      <td>81.6796</td>\n",
              "      <td>83.3746</td>\n",
              "      <td>84.2824</td>\n",
              "      <td>83.3746</td>\n",
              "    </tr>\n",
              "    <tr>\n",
              "      <th>RMSE</th>\n",
              "      <td>28.4686</td>\n",
              "      <td>26.1596</td>\n",
              "      <td>24.9941</td>\n",
              "      <td>26.1596</td>\n",
              "    </tr>\n",
              "  </tbody>\n",
              "</table>\n",
              "</div>"
            ],
            "text/plain": [
              "            haar     sym3    coif3      db3\n",
              "wavelet     haar     sym3    coif3      db3\n",
              "SNR      81.6796  83.3746  84.2824  83.3746\n",
              "RMSE     28.4686  26.1596  24.9941  26.1596"
            ]
          },
          "metadata": {
            "tags": []
          },
          "execution_count": 13
        }
      ]
    },
    {
      "cell_type": "markdown",
      "metadata": {
        "id": "CPLnH-Opylaj"
      },
      "source": [
        "**Denoised the closing price before feeding it to our models**"
      ]
    },
    {
      "cell_type": "code",
      "metadata": {
        "id": "NkPH_KgPXYWg"
      },
      "source": [
        "scale = 0.05\n",
        "coefficients = pywt.wavedec(df_daily_data['Closing Price'], 'coif3', mode = 'smooth')\n",
        "coefficients[1:] = [pywt.threshold(i, value = scale * df_daily_data['Closing Price'].max(), mode = 'garotte') for i in coefficients[1:]]\n",
        "reconstructed_SPX = pywt.waverec(coefficients, 'coif3', mode = 'smooth')\n",
        "reconstructed_SPX = pd.DataFrame(reconstructed_SPX, columns=['Closing Price'], index=df_daily_data.index)"
      ],
      "execution_count": null,
      "outputs": []
    },
    {
      "cell_type": "code",
      "metadata": {
        "colab": {
          "base_uri": "https://localhost:8080/",
          "height": 229
        },
        "id": "3_agWz3pXewV",
        "outputId": "4cf8bcf0-e27a-44a4-e167-e66ec4168b41"
      },
      "source": [
        "plt.figure(figsize=(6,3))\n",
        "plt.plot(df_daily_data['Closing Price'], label='Original data', color='red')\n",
        "plt.plot(reconstructed_SPX['Closing Price'], label='S&P Denoised', color='blue')\n",
        "plt.title(\"S&P 500 closing price\")\n",
        "plt.legend()\n",
        "plt.show()"
      ],
      "execution_count": null,
      "outputs": [
        {
          "output_type": "display_data",
          "data": {
            "image/png": "[encoded data removed]",
            "text/plain": [
              "<Figure size 432x216 with 1 Axes>"
            ]
          },
          "metadata": {
            "tags": []
          }
        }
      ]
    },
    {
      "cell_type": "markdown",
      "metadata": {
        "id": "HZn4edDk8HjD"
      },
      "source": [
        "---\n",
        "> **The figures below show the closing price curves before and after denoising using the wavelet transform. By comparing them, it is found that the noise after wavelet transform processing is smaller.**\n",
        "\n",
        "---\n",
        "\n"
      ]
    },
    {
      "cell_type": "code",
      "metadata": {
        "colab": {
          "base_uri": "https://localhost:8080/",
          "height": 229
        },
        "id": "4pXr5Vo6XiKN",
        "outputId": "524dcfdc-0349-4214-8b36-4e6280415b93"
      },
      "source": [
        "plt.figure(figsize=(6,3))\n",
        "plt.plot(df_daily_data['Closing Price'], label='Original data', color='red')\n",
        "#plt.plot(reconstructed_SPX['closing_price'], label='S&P Denoised', color='blue')\n",
        "plt.title(\"S&P 500 closing price\")\n",
        "plt.legend()\n",
        "plt.show()"
      ],
      "execution_count": null,
      "outputs": [
        {
          "output_type": "display_data",
          "data": {
            "image/png": "[encoded data removed]",
            "text/plain": [
              "<Figure size 432x216 with 1 Axes>"
            ]
          },
          "metadata": {
            "tags": []
          }
        }
      ]
    },
    {
      "cell_type": "code",
      "metadata": {
        "colab": {
          "base_uri": "https://localhost:8080/",
          "height": 229
        },
        "id": "XPWtAuAyXqzH",
        "outputId": "c469f978-6f9d-4440-f16c-3205edbec58c"
      },
      "source": [
        "plt.figure(figsize=(6,3))\n",
        "#plt.plot(df['closing_price'], label='Original data', color='red')\n",
        "plt.plot(reconstructed_SPX, label='S&P closing_price', color='blue')\n",
        "plt.title(\"S&P 500 closing price after Wavelet Transform\")\n",
        "plt.legend()\n",
        "plt.show()"
      ],
      "execution_count": null,
      "outputs": [
        {
          "output_type": "display_data",
          "data": {
            "image/png": "[encoded data removed]",
            "text/plain": [
              "<Figure size 432x216 with 1 Axes>"
            ]
          },
          "metadata": {
            "tags": []
          }
        }
      ]
    },
    {
      "cell_type": "markdown",
      "metadata": {
        "id": "G1i7skb0EiPu"
      },
      "source": [
        "**Download S&P 500 open, high, low prices and the volume**"
      ]
    },
    {
      "cell_type": "code",
      "metadata": {
        "id": "_-6ArTsSEhba",
        "colab": {
          "base_uri": "https://localhost:8080/",
          "height": 450
        },
        "outputId": "5c12477e-d612-4cc3-b7a2-f2afefceaa27"
      },
      "source": [
        "start = dt.datetime(2000, 12, 31)\n",
        "end = dt.datetime(2019, 12, 31)\n",
        "\n",
        "df_SPX_stocks = web.DataReader(['^GSPC'], 'yahoo', start, end)\n",
        "df_SPX_stocks.columns = ['Ajd Close', 'Close', 'High', 'Low' ,'Open', 'Volume']\n",
        "df_SPX_stocks"
      ],
      "execution_count": null,
      "outputs": [
        {
          "output_type": "execute_result",
          "data": {
            "text/html": [
              "<div>\n",
              "<style scoped>\n",
              "    .dataframe tbody tr th:only-of-type {\n",
              "        vertical-align: middle;\n",
              "    }\n",
              "\n",
              "    .dataframe tbody tr th {\n",
              "        vertical-align: top;\n",
              "    }\n",
              "\n",
              "    .dataframe thead th {\n",
              "        text-align: right;\n",
              "    }\n",
              "</style>\n",
              "<table border=\"1\" class=\"dataframe\">\n",
              "  <thead>\n",
              "    <tr style=\"text-align: right;\">\n",
              "      <th></th>\n",
              "      <th>Ajd Close</th>\n",
              "      <th>Close</th>\n",
              "      <th>High</th>\n",
              "      <th>Low</th>\n",
              "      <th>Open</th>\n",
              "      <th>Volume</th>\n",
              "    </tr>\n",
              "    <tr>\n",
              "      <th>Date</th>\n",
              "      <th></th>\n",
              "      <th></th>\n",
              "      <th></th>\n",
              "      <th></th>\n",
              "      <th></th>\n",
              "      <th></th>\n",
              "    </tr>\n",
              "  </thead>\n",
              "  <tbody>\n",
              "    <tr>\n",
              "      <th>2001-01-02</th>\n",
              "      <td>1283.270020</td>\n",
              "      <td>1283.270020</td>\n",
              "      <td>1320.280029</td>\n",
              "      <td>1276.050049</td>\n",
              "      <td>1320.280029</td>\n",
              "      <td>1129400000</td>\n",
              "    </tr>\n",
              "    <tr>\n",
              "      <th>2001-01-03</th>\n",
              "      <td>1347.560059</td>\n",
              "      <td>1347.560059</td>\n",
              "      <td>1347.760010</td>\n",
              "      <td>1274.619995</td>\n",
              "      <td>1283.270020</td>\n",
              "      <td>1880700000</td>\n",
              "    </tr>\n",
              "    <tr>\n",
              "      <th>2001-01-04</th>\n",
              "      <td>1333.339966</td>\n",
              "      <td>1333.339966</td>\n",
              "      <td>1350.239990</td>\n",
              "      <td>1329.140015</td>\n",
              "      <td>1347.560059</td>\n",
              "      <td>2131000000</td>\n",
              "    </tr>\n",
              "    <tr>\n",
              "      <th>2001-01-05</th>\n",
              "      <td>1298.349976</td>\n",
              "      <td>1298.349976</td>\n",
              "      <td>1334.770020</td>\n",
              "      <td>1294.949951</td>\n",
              "      <td>1333.339966</td>\n",
              "      <td>1430800000</td>\n",
              "    </tr>\n",
              "    <tr>\n",
              "      <th>2001-01-08</th>\n",
              "      <td>1295.859985</td>\n",
              "      <td>1295.859985</td>\n",
              "      <td>1298.349976</td>\n",
              "      <td>1276.290039</td>\n",
              "      <td>1298.349976</td>\n",
              "      <td>1115500000</td>\n",
              "    </tr>\n",
              "    <tr>\n",
              "      <th>...</th>\n",
              "      <td>...</td>\n",
              "      <td>...</td>\n",
              "      <td>...</td>\n",
              "      <td>...</td>\n",
              "      <td>...</td>\n",
              "      <td>...</td>\n",
              "    </tr>\n",
              "    <tr>\n",
              "      <th>2019-12-24</th>\n",
              "      <td>3223.379883</td>\n",
              "      <td>3223.379883</td>\n",
              "      <td>3226.429932</td>\n",
              "      <td>3220.510010</td>\n",
              "      <td>3225.449951</td>\n",
              "      <td>1296540000</td>\n",
              "    </tr>\n",
              "    <tr>\n",
              "      <th>2019-12-26</th>\n",
              "      <td>3239.909912</td>\n",
              "      <td>3239.909912</td>\n",
              "      <td>3240.080078</td>\n",
              "      <td>3227.199951</td>\n",
              "      <td>3227.199951</td>\n",
              "      <td>2160680000</td>\n",
              "    </tr>\n",
              "    <tr>\n",
              "      <th>2019-12-27</th>\n",
              "      <td>3240.020020</td>\n",
              "      <td>3240.020020</td>\n",
              "      <td>3247.929932</td>\n",
              "      <td>3234.370117</td>\n",
              "      <td>3247.229980</td>\n",
              "      <td>2428670000</td>\n",
              "    </tr>\n",
              "    <tr>\n",
              "      <th>2019-12-30</th>\n",
              "      <td>3221.290039</td>\n",
              "      <td>3221.290039</td>\n",
              "      <td>3240.919922</td>\n",
              "      <td>3216.570068</td>\n",
              "      <td>3240.090088</td>\n",
              "      <td>3013290000</td>\n",
              "    </tr>\n",
              "    <tr>\n",
              "      <th>2019-12-31</th>\n",
              "      <td>3230.780029</td>\n",
              "      <td>3230.780029</td>\n",
              "      <td>3231.719971</td>\n",
              "      <td>3212.030029</td>\n",
              "      <td>3215.179932</td>\n",
              "      <td>2893810000</td>\n",
              "    </tr>\n",
              "  </tbody>\n",
              "</table>\n",
              "<p>4779 rows × 6 columns</p>\n",
              "</div>"
            ],
            "text/plain": [
              "              Ajd Close        Close  ...         Open      Volume\n",
              "Date                                  ...                         \n",
              "2001-01-02  1283.270020  1283.270020  ...  1320.280029  1129400000\n",
              "2001-01-03  1347.560059  1347.560059  ...  1283.270020  1880700000\n",
              "2001-01-04  1333.339966  1333.339966  ...  1347.560059  2131000000\n",
              "2001-01-05  1298.349976  1298.349976  ...  1333.339966  1430800000\n",
              "2001-01-08  1295.859985  1295.859985  ...  1298.349976  1115500000\n",
              "...                 ...          ...  ...          ...         ...\n",
              "2019-12-24  3223.379883  3223.379883  ...  3225.449951  1296540000\n",
              "2019-12-26  3239.909912  3239.909912  ...  3227.199951  2160680000\n",
              "2019-12-27  3240.020020  3240.020020  ...  3247.229980  2428670000\n",
              "2019-12-30  3221.290039  3221.290039  ...  3240.090088  3013290000\n",
              "2019-12-31  3230.780029  3230.780029  ...  3215.179932  2893810000\n",
              "\n",
              "[4779 rows x 6 columns]"
            ]
          },
          "metadata": {
            "tags": []
          },
          "execution_count": 9
        }
      ]
    },
    {
      "cell_type": "markdown",
      "metadata": {
        "id": "gWIYyokkEunP"
      },
      "source": [
        "**Compute technical indicators for trends modeling**"
      ]
    },
    {
      "cell_type": "code",
      "metadata": {
        "id": "m6LJigzHE7o7"
      },
      "source": [
        "stock_df = Sdf.retype(df_SPX_stocks)\n",
        "df_SPX_stocks['rsi']=stock_df['rsi_14']\n",
        "del df_SPX_stocks['close_-1_s']\n",
        "del df_SPX_stocks['close_-1_d']\n",
        "del df_SPX_stocks['rs_14']\n",
        "del df_SPX_stocks['rsi_14']\n",
        "del df_SPX_stocks['closepm']\n",
        "del df_SPX_stocks['closenm']\n",
        "del df_SPX_stocks['closepm_14_smma']\n",
        "del df_SPX_stocks['closenm_14_smma']\n",
        "\n",
        "\n",
        "df_SPX_stocks['CCI']=stock_df['cci']\n",
        "df_SPX_stocks['STCK%']=stock_df['kdjk']\n",
        "df_SPX_stocks['ADO'] = (df_SPX_stocks['high'] - df_SPX_stocks['close'])/(df_SPX_stocks['high']-df_SPX_stocks['low'])"
      ],
      "execution_count": null,
      "outputs": []
    },
    {
      "cell_type": "code",
      "metadata": {
        "id": "XUc7xb_5FBOr",
        "colab": {
          "base_uri": "https://localhost:8080/",
          "height": 235
        },
        "outputId": "fad9e788-ec72-410d-cd5f-30b5014c272b"
      },
      "source": [
        "df_SPX_stocks.head()"
      ],
      "execution_count": null,
      "outputs": [
        {
          "output_type": "execute_result",
          "data": {
            "text/html": [
              "<div>\n",
              "<style scoped>\n",
              "    .dataframe tbody tr th:only-of-type {\n",
              "        vertical-align: middle;\n",
              "    }\n",
              "\n",
              "    .dataframe tbody tr th {\n",
              "        vertical-align: top;\n",
              "    }\n",
              "\n",
              "    .dataframe thead th {\n",
              "        text-align: right;\n",
              "    }\n",
              "</style>\n",
              "<table border=\"1\" class=\"dataframe\">\n",
              "  <thead>\n",
              "    <tr style=\"text-align: right;\">\n",
              "      <th></th>\n",
              "      <th>ajd close</th>\n",
              "      <th>close</th>\n",
              "      <th>high</th>\n",
              "      <th>low</th>\n",
              "      <th>open</th>\n",
              "      <th>volume</th>\n",
              "      <th>rsi</th>\n",
              "      <th>CCI</th>\n",
              "      <th>STCK%</th>\n",
              "      <th>ADO</th>\n",
              "    </tr>\n",
              "    <tr>\n",
              "      <th>Date</th>\n",
              "      <th></th>\n",
              "      <th></th>\n",
              "      <th></th>\n",
              "      <th></th>\n",
              "      <th></th>\n",
              "      <th></th>\n",
              "      <th></th>\n",
              "      <th></th>\n",
              "      <th></th>\n",
              "      <th></th>\n",
              "    </tr>\n",
              "  </thead>\n",
              "  <tbody>\n",
              "    <tr>\n",
              "      <th>2001-01-02</th>\n",
              "      <td>1283.270020</td>\n",
              "      <td>1283.270020</td>\n",
              "      <td>1320.280029</td>\n",
              "      <td>1276.050049</td>\n",
              "      <td>1320.280029</td>\n",
              "      <td>1129400000</td>\n",
              "      <td>NaN</td>\n",
              "      <td>NaN</td>\n",
              "      <td>38.774568</td>\n",
              "      <td>0.836763</td>\n",
              "    </tr>\n",
              "    <tr>\n",
              "      <th>2001-01-03</th>\n",
              "      <td>1347.560059</td>\n",
              "      <td>1347.560059</td>\n",
              "      <td>1347.760010</td>\n",
              "      <td>1274.619995</td>\n",
              "      <td>1283.270020</td>\n",
              "      <td>1880700000</td>\n",
              "      <td>100.000000</td>\n",
              "      <td>66.666667</td>\n",
              "      <td>59.091918</td>\n",
              "      <td>0.002734</td>\n",
              "    </tr>\n",
              "    <tr>\n",
              "      <th>2001-01-04</th>\n",
              "      <td>1333.339966</td>\n",
              "      <td>1333.339966</td>\n",
              "      <td>1350.239990</td>\n",
              "      <td>1329.140015</td>\n",
              "      <td>1347.560059</td>\n",
              "      <td>2131000000</td>\n",
              "      <td>80.762337</td>\n",
              "      <td>78.716507</td>\n",
              "      <td>65.278406</td>\n",
              "      <td>0.800950</td>\n",
              "    </tr>\n",
              "    <tr>\n",
              "      <th>2001-01-05</th>\n",
              "      <td>1298.349976</td>\n",
              "      <td>1298.349976</td>\n",
              "      <td>1334.770020</td>\n",
              "      <td>1294.949951</td>\n",
              "      <td>1333.339966</td>\n",
              "      <td>1430800000</td>\n",
              "      <td>53.492969</td>\n",
              "      <td>-29.735146</td>\n",
              "      <td>53.979125</td>\n",
              "      <td>0.914615</td>\n",
              "    </tr>\n",
              "    <tr>\n",
              "      <th>2001-01-08</th>\n",
              "      <td>1295.859985</td>\n",
              "      <td>1295.859985</td>\n",
              "      <td>1298.349976</td>\n",
              "      <td>1276.290039</td>\n",
              "      <td>1298.349976</td>\n",
              "      <td>1115500000</td>\n",
              "      <td>52.143676</td>\n",
              "      <td>-86.857456</td>\n",
              "      <td>45.348682</td>\n",
              "      <td>0.112874</td>\n",
              "    </tr>\n",
              "  </tbody>\n",
              "</table>\n",
              "</div>"
            ],
            "text/plain": [
              "              ajd close        close  ...      STCK%       ADO\n",
              "Date                                  ...                     \n",
              "2001-01-02  1283.270020  1283.270020  ...  38.774568  0.836763\n",
              "2001-01-03  1347.560059  1347.560059  ...  59.091918  0.002734\n",
              "2001-01-04  1333.339966  1333.339966  ...  65.278406  0.800950\n",
              "2001-01-05  1298.349976  1298.349976  ...  53.979125  0.914615\n",
              "2001-01-08  1295.859985  1295.859985  ...  45.348682  0.112874\n",
              "\n",
              "[5 rows x 10 columns]"
            ]
          },
          "metadata": {
            "tags": []
          },
          "execution_count": 11
        }
      ]
    },
    {
      "cell_type": "markdown",
      "metadata": {
        "id": "EDL8WEogFLYI"
      },
      "source": [
        "**Get rid of holidays, weekends ang keep only business days**"
      ]
    },
    {
      "cell_type": "code",
      "metadata": {
        "id": "P68SGAa3FR6c"
      },
      "source": [
        "class BankCalendar(AbstractHolidayCalendar):\n",
        "    rules = [\n",
        "        Holiday(\"New Year's Day\", month=1, day=1, observance=sunday_to_monday),\n",
        "        Holiday(\"Martin Luther King Jr.'s Birthday\", month=1, day=1, offset=WeekOfMonth(week=3, weekday=1)),\n",
        "        Holiday(\"Washington's Birthday\", month=2, day=1, offset=WeekOfMonth(week=3, weekday=1)),\n",
        "        USMemorialDay,\n",
        "        Holiday(\"Independence Day\", month=7, day=4, observance=sunday_to_monday),\n",
        "        USLaborDay,\n",
        "        USColumbusDay,\n",
        "        Holiday(\"Veteran's Day\", month=11, day=11, observance=sunday_to_monday),\n",
        "        USThanksgivingDay,\n",
        "        Holiday(\"Christmas Day\", month=12, day=25, observance=sunday_to_monday),\n",
        "    ]\n",
        "\n",
        "# Keep only bank business days\n",
        "Bank_business_days = CustomBusinessDay(calendar = BankCalendar())\n",
        "business_days = pd.date_range('2000-12-31', end = '2019-12-31', freq = Bank_business_days)\n",
        "df_business_days = pd.DataFrame(business_days, columns = ['Date'])\n",
        "df_business_days.set_index('Date', inplace = True, drop = True)\n",
        "df_daily_data = df_daily_data.join(df_business_days, how = 'right')"
      ],
      "execution_count": null,
      "outputs": []
    },
    {
      "cell_type": "code",
      "metadata": {
        "id": "neKh85WdFX_u"
      },
      "source": [
        "df_daily_data = df_daily_data.merge(df_SPX_stocks, how='inner', on='Date')"
      ],
      "execution_count": null,
      "outputs": []
    },
    {
      "cell_type": "code",
      "metadata": {
        "id": "3AXoZDrlFas6",
        "colab": {
          "base_uri": "https://localhost:8080/",
          "height": 391
        },
        "outputId": "172e2ad6-d9f9-4018-eb66-a13095f455c8"
      },
      "source": [
        "df_daily_data.head()"
      ],
      "execution_count": null,
      "outputs": [
        {
          "output_type": "execute_result",
          "data": {
            "text/html": [
              "<div>\n",
              "<style scoped>\n",
              "    .dataframe tbody tr th:only-of-type {\n",
              "        vertical-align: middle;\n",
              "    }\n",
              "\n",
              "    .dataframe tbody tr th {\n",
              "        vertical-align: top;\n",
              "    }\n",
              "\n",
              "    .dataframe thead th {\n",
              "        text-align: right;\n",
              "    }\n",
              "</style>\n",
              "<table border=\"1\" class=\"dataframe\">\n",
              "  <thead>\n",
              "    <tr style=\"text-align: right;\">\n",
              "      <th></th>\n",
              "      <th>SPX Index</th>\n",
              "      <th>Vix Index</th>\n",
              "      <th>GDP US</th>\n",
              "      <th>Taux 10 ans US</th>\n",
              "      <th>FDTR Index</th>\n",
              "      <th>Indice CRB</th>\n",
              "      <th>CRB - Métaux</th>\n",
              "      <th>CRB - Industrie de base</th>\n",
              "      <th>CRB - Alimentaire</th>\n",
              "      <th>CRB - Textile</th>\n",
              "      <th>MACD</th>\n",
              "      <th>BSPGCPUS Index</th>\n",
              "      <th>Surprise économique</th>\n",
              "      <th>Or</th>\n",
              "      <th>Chômage US</th>\n",
              "      <th>Confiance des consommateurs US</th>\n",
              "      <th>Inflation US</th>\n",
              "      <th>CPTICHNG Index</th>\n",
              "      <th>Closing Price</th>\n",
              "      <th>ajd close</th>\n",
              "      <th>close</th>\n",
              "      <th>high</th>\n",
              "      <th>low</th>\n",
              "      <th>open</th>\n",
              "      <th>volume</th>\n",
              "      <th>rsi</th>\n",
              "      <th>CCI</th>\n",
              "      <th>STCK%</th>\n",
              "      <th>ADO</th>\n",
              "    </tr>\n",
              "    <tr>\n",
              "      <th>Date</th>\n",
              "      <th></th>\n",
              "      <th></th>\n",
              "      <th></th>\n",
              "      <th></th>\n",
              "      <th></th>\n",
              "      <th></th>\n",
              "      <th></th>\n",
              "      <th></th>\n",
              "      <th></th>\n",
              "      <th></th>\n",
              "      <th></th>\n",
              "      <th></th>\n",
              "      <th></th>\n",
              "      <th></th>\n",
              "      <th></th>\n",
              "      <th></th>\n",
              "      <th></th>\n",
              "      <th></th>\n",
              "      <th></th>\n",
              "      <th></th>\n",
              "      <th></th>\n",
              "      <th></th>\n",
              "      <th></th>\n",
              "      <th></th>\n",
              "      <th></th>\n",
              "      <th></th>\n",
              "      <th></th>\n",
              "      <th></th>\n",
              "      <th></th>\n",
              "    </tr>\n",
              "  </thead>\n",
              "  <tbody>\n",
              "    <tr>\n",
              "      <th>2001-01-02</th>\n",
              "      <td>-2.80</td>\n",
              "      <td>29.99</td>\n",
              "      <td>3.0</td>\n",
              "      <td>4.915</td>\n",
              "      <td>6.5</td>\n",
              "      <td>222.54</td>\n",
              "      <td>211.24</td>\n",
              "      <td>253.76</td>\n",
              "      <td>183.96</td>\n",
              "      <td>244.15</td>\n",
              "      <td>-15.078643</td>\n",
              "      <td>5.7</td>\n",
              "      <td>-0.218</td>\n",
              "      <td>270.0</td>\n",
              "      <td>3.9</td>\n",
              "      <td>128.55</td>\n",
              "      <td>3.4</td>\n",
              "      <td>79.9609</td>\n",
              "      <td>1283.312160</td>\n",
              "      <td>1283.270020</td>\n",
              "      <td>1283.270020</td>\n",
              "      <td>1320.280029</td>\n",
              "      <td>1276.050049</td>\n",
              "      <td>1320.280029</td>\n",
              "      <td>1129400000</td>\n",
              "      <td>NaN</td>\n",
              "      <td>NaN</td>\n",
              "      <td>38.774568</td>\n",
              "      <td>0.836763</td>\n",
              "    </tr>\n",
              "    <tr>\n",
              "      <th>2001-01-03</th>\n",
              "      <td>5.01</td>\n",
              "      <td>26.60</td>\n",
              "      <td>3.0</td>\n",
              "      <td>5.158</td>\n",
              "      <td>6.0</td>\n",
              "      <td>222.53</td>\n",
              "      <td>210.76</td>\n",
              "      <td>253.53</td>\n",
              "      <td>184.17</td>\n",
              "      <td>244.15</td>\n",
              "      <td>-11.375763</td>\n",
              "      <td>5.7</td>\n",
              "      <td>-0.218</td>\n",
              "      <td>269.3</td>\n",
              "      <td>3.9</td>\n",
              "      <td>128.55</td>\n",
              "      <td>3.4</td>\n",
              "      <td>79.9609</td>\n",
              "      <td>1347.606099</td>\n",
              "      <td>1347.560059</td>\n",
              "      <td>1347.560059</td>\n",
              "      <td>1347.760010</td>\n",
              "      <td>1274.619995</td>\n",
              "      <td>1283.270020</td>\n",
              "      <td>1880700000</td>\n",
              "      <td>100.000000</td>\n",
              "      <td>66.666667</td>\n",
              "      <td>59.091918</td>\n",
              "      <td>0.002734</td>\n",
              "    </tr>\n",
              "    <tr>\n",
              "      <th>2001-01-04</th>\n",
              "      <td>-1.06</td>\n",
              "      <td>26.97</td>\n",
              "      <td>3.0</td>\n",
              "      <td>5.039</td>\n",
              "      <td>6.0</td>\n",
              "      <td>222.80</td>\n",
              "      <td>210.62</td>\n",
              "      <td>253.95</td>\n",
              "      <td>184.29</td>\n",
              "      <td>243.49</td>\n",
              "      <td>-9.479367</td>\n",
              "      <td>5.7</td>\n",
              "      <td>-0.218</td>\n",
              "      <td>268.4</td>\n",
              "      <td>3.9</td>\n",
              "      <td>128.55</td>\n",
              "      <td>3.4</td>\n",
              "      <td>79.9609</td>\n",
              "      <td>1333.321475</td>\n",
              "      <td>1333.339966</td>\n",
              "      <td>1333.339966</td>\n",
              "      <td>1350.239990</td>\n",
              "      <td>1329.140015</td>\n",
              "      <td>1347.560059</td>\n",
              "      <td>2131000000</td>\n",
              "      <td>80.762337</td>\n",
              "      <td>78.716507</td>\n",
              "      <td>65.278406</td>\n",
              "      <td>0.800950</td>\n",
              "    </tr>\n",
              "    <tr>\n",
              "      <th>2001-01-05</th>\n",
              "      <td>-2.62</td>\n",
              "      <td>28.67</td>\n",
              "      <td>3.0</td>\n",
              "      <td>4.931</td>\n",
              "      <td>6.0</td>\n",
              "      <td>223.70</td>\n",
              "      <td>210.83</td>\n",
              "      <td>254.36</td>\n",
              "      <td>185.68</td>\n",
              "      <td>243.43</td>\n",
              "      <td>-10.676785</td>\n",
              "      <td>5.7</td>\n",
              "      <td>-0.218</td>\n",
              "      <td>269.0</td>\n",
              "      <td>3.9</td>\n",
              "      <td>128.55</td>\n",
              "      <td>3.4</td>\n",
              "      <td>79.9609</td>\n",
              "      <td>1298.388452</td>\n",
              "      <td>1298.349976</td>\n",
              "      <td>1298.349976</td>\n",
              "      <td>1334.770020</td>\n",
              "      <td>1294.949951</td>\n",
              "      <td>1333.339966</td>\n",
              "      <td>1430800000</td>\n",
              "      <td>53.492969</td>\n",
              "      <td>-29.735146</td>\n",
              "      <td>53.979125</td>\n",
              "      <td>0.914615</td>\n",
              "    </tr>\n",
              "    <tr>\n",
              "      <th>2001-01-08</th>\n",
              "      <td>-0.19</td>\n",
              "      <td>29.84</td>\n",
              "      <td>3.0</td>\n",
              "      <td>4.956</td>\n",
              "      <td>6.0</td>\n",
              "      <td>224.48</td>\n",
              "      <td>211.59</td>\n",
              "      <td>255.17</td>\n",
              "      <td>186.40</td>\n",
              "      <td>244.80</td>\n",
              "      <td>-11.691893</td>\n",
              "      <td>5.7</td>\n",
              "      <td>-0.218</td>\n",
              "      <td>269.0</td>\n",
              "      <td>3.9</td>\n",
              "      <td>128.55</td>\n",
              "      <td>3.4</td>\n",
              "      <td>79.9609</td>\n",
              "      <td>1295.921514</td>\n",
              "      <td>1295.859985</td>\n",
              "      <td>1295.859985</td>\n",
              "      <td>1298.349976</td>\n",
              "      <td>1276.290039</td>\n",
              "      <td>1298.349976</td>\n",
              "      <td>1115500000</td>\n",
              "      <td>52.143676</td>\n",
              "      <td>-86.857456</td>\n",
              "      <td>45.348682</td>\n",
              "      <td>0.112874</td>\n",
              "    </tr>\n",
              "  </tbody>\n",
              "</table>\n",
              "</div>"
            ],
            "text/plain": [
              "            SPX Index  Vix Index  GDP US  ...        CCI      STCK%       ADO\n",
              "Date                                      ...                                \n",
              "2001-01-02      -2.80      29.99     3.0  ...        NaN  38.774568  0.836763\n",
              "2001-01-03       5.01      26.60     3.0  ...  66.666667  59.091918  0.002734\n",
              "2001-01-04      -1.06      26.97     3.0  ...  78.716507  65.278406  0.800950\n",
              "2001-01-05      -2.62      28.67     3.0  ... -29.735146  53.979125  0.914615\n",
              "2001-01-08      -0.19      29.84     3.0  ... -86.857456  45.348682  0.112874\n",
              "\n",
              "[5 rows x 29 columns]"
            ]
          },
          "metadata": {
            "tags": []
          },
          "execution_count": 14
        }
      ]
    },
    {
      "cell_type": "code",
      "metadata": {
        "id": "Zg2Rh7rOFHZj",
        "colab": {
          "base_uri": "https://localhost:8080/",
          "height": 235
        },
        "outputId": "a6758810-85f0-4d36-dda5-0d93d7d4b922"
      },
      "source": [
        "df_relevant_indicators = df_daily_data[['SPX Index', 'FDTR Index', 'Vix Index', 'Surprise économique', 'Inflation US', 'Confiance des consommateurs US', 'Taux 10 ans US', 'close', 'Chômage US']]\n",
        "df_relevant_indicators.head(5)"
      ],
      "execution_count": null,
      "outputs": [
        {
          "output_type": "execute_result",
          "data": {
            "text/html": [
              "<div>\n",
              "<style scoped>\n",
              "    .dataframe tbody tr th:only-of-type {\n",
              "        vertical-align: middle;\n",
              "    }\n",
              "\n",
              "    .dataframe tbody tr th {\n",
              "        vertical-align: top;\n",
              "    }\n",
              "\n",
              "    .dataframe thead th {\n",
              "        text-align: right;\n",
              "    }\n",
              "</style>\n",
              "<table border=\"1\" class=\"dataframe\">\n",
              "  <thead>\n",
              "    <tr style=\"text-align: right;\">\n",
              "      <th></th>\n",
              "      <th>SPX Index</th>\n",
              "      <th>FDTR Index</th>\n",
              "      <th>Vix Index</th>\n",
              "      <th>Surprise économique</th>\n",
              "      <th>Inflation US</th>\n",
              "      <th>Confiance des consommateurs US</th>\n",
              "      <th>Taux 10 ans US</th>\n",
              "      <th>close</th>\n",
              "      <th>Chômage US</th>\n",
              "    </tr>\n",
              "    <tr>\n",
              "      <th>Date</th>\n",
              "      <th></th>\n",
              "      <th></th>\n",
              "      <th></th>\n",
              "      <th></th>\n",
              "      <th></th>\n",
              "      <th></th>\n",
              "      <th></th>\n",
              "      <th></th>\n",
              "      <th></th>\n",
              "    </tr>\n",
              "  </thead>\n",
              "  <tbody>\n",
              "    <tr>\n",
              "      <th>2001-01-02</th>\n",
              "      <td>-2.80</td>\n",
              "      <td>6.5</td>\n",
              "      <td>29.99</td>\n",
              "      <td>-0.218</td>\n",
              "      <td>3.4</td>\n",
              "      <td>128.55</td>\n",
              "      <td>4.915</td>\n",
              "      <td>1283.270020</td>\n",
              "      <td>3.9</td>\n",
              "    </tr>\n",
              "    <tr>\n",
              "      <th>2001-01-03</th>\n",
              "      <td>5.01</td>\n",
              "      <td>6.0</td>\n",
              "      <td>26.60</td>\n",
              "      <td>-0.218</td>\n",
              "      <td>3.4</td>\n",
              "      <td>128.55</td>\n",
              "      <td>5.158</td>\n",
              "      <td>1347.560059</td>\n",
              "      <td>3.9</td>\n",
              "    </tr>\n",
              "    <tr>\n",
              "      <th>2001-01-04</th>\n",
              "      <td>-1.06</td>\n",
              "      <td>6.0</td>\n",
              "      <td>26.97</td>\n",
              "      <td>-0.218</td>\n",
              "      <td>3.4</td>\n",
              "      <td>128.55</td>\n",
              "      <td>5.039</td>\n",
              "      <td>1333.339966</td>\n",
              "      <td>3.9</td>\n",
              "    </tr>\n",
              "    <tr>\n",
              "      <th>2001-01-05</th>\n",
              "      <td>-2.62</td>\n",
              "      <td>6.0</td>\n",
              "      <td>28.67</td>\n",
              "      <td>-0.218</td>\n",
              "      <td>3.4</td>\n",
              "      <td>128.55</td>\n",
              "      <td>4.931</td>\n",
              "      <td>1298.349976</td>\n",
              "      <td>3.9</td>\n",
              "    </tr>\n",
              "    <tr>\n",
              "      <th>2001-01-08</th>\n",
              "      <td>-0.19</td>\n",
              "      <td>6.0</td>\n",
              "      <td>29.84</td>\n",
              "      <td>-0.218</td>\n",
              "      <td>3.4</td>\n",
              "      <td>128.55</td>\n",
              "      <td>4.956</td>\n",
              "      <td>1295.859985</td>\n",
              "      <td>3.9</td>\n",
              "    </tr>\n",
              "  </tbody>\n",
              "</table>\n",
              "</div>"
            ],
            "text/plain": [
              "            SPX Index  FDTR Index  ...        close  Chômage US\n",
              "Date                               ...                         \n",
              "2001-01-02      -2.80         6.5  ...  1283.270020         3.9\n",
              "2001-01-03       5.01         6.0  ...  1347.560059         3.9\n",
              "2001-01-04      -1.06         6.0  ...  1333.339966         3.9\n",
              "2001-01-05      -2.62         6.0  ...  1298.349976         3.9\n",
              "2001-01-08      -0.19         6.0  ...  1295.859985         3.9\n",
              "\n",
              "[5 rows x 9 columns]"
            ]
          },
          "metadata": {
            "tags": []
          },
          "execution_count": 13
        }
      ]
    },
    {
      "cell_type": "markdown",
      "metadata": {
        "id": "FOUGuNxkDhXz"
      },
      "source": [
        "# **Trends**"
      ]
    },
    {
      "cell_type": "code",
      "metadata": {
        "id": "ZP0e3iAQDkj-"
      },
      "source": [
        "df_trends_indicator = df_daily_data[['close', 'rsi', 'MACD', 'CCI', 'STCK%', 'ADO']]\n",
        "\n",
        "def ado_stck_macd_trends(data, name):\n",
        "  indicator = [None]\n",
        "  for i in range(len(data) - 1):\n",
        "    if data[name][i+1] > data[name][i]:\n",
        "      indicator.append(1)\n",
        "    else:\n",
        "      indicator.append(0)\n",
        "  return indicator\n",
        "\n",
        "df_trends_indicator['ADO_trends'] = ado_stck_macd_trends(df_trends_indicator, 'ADO')\n",
        "df_trends_indicator['STCK%_trends'] = ado_stck_macd_trends(df_trends_indicator, 'STCK%')\n",
        "df_trends_indicator['MACD_trends'] = ado_stck_macd_trends(df_trends_indicator, 'MACD')"
      ],
      "execution_count": null,
      "outputs": []
    },
    {
      "cell_type": "code",
      "metadata": {
        "colab": {
          "base_uri": "https://localhost:8080/",
          "height": 229
        },
        "id": "-m9N7jcYDmmY",
        "outputId": "0db19495-4d99-4334-9992-5433d46b77b7"
      },
      "source": [
        "df_trends_indicator = df_trends_indicator[1:]\n",
        "df_trends_indicator.head()"
      ],
      "execution_count": null,
      "outputs": [
        {
          "output_type": "execute_result",
          "data": {
            "text/html": [
              "<div>\n",
              "<style scoped>\n",
              "    .dataframe tbody tr th:only-of-type {\n",
              "        vertical-align: middle;\n",
              "    }\n",
              "\n",
              "    .dataframe tbody tr th {\n",
              "        vertical-align: top;\n",
              "    }\n",
              "\n",
              "    .dataframe thead th {\n",
              "        text-align: right;\n",
              "    }\n",
              "</style>\n",
              "<table border=\"1\" class=\"dataframe\">\n",
              "  <thead>\n",
              "    <tr style=\"text-align: right;\">\n",
              "      <th></th>\n",
              "      <th>close</th>\n",
              "      <th>rsi</th>\n",
              "      <th>MACD</th>\n",
              "      <th>CCI</th>\n",
              "      <th>STCK%</th>\n",
              "      <th>ADO</th>\n",
              "      <th>ADO_trends</th>\n",
              "      <th>STCK%_trends</th>\n",
              "      <th>MACD_trends</th>\n",
              "    </tr>\n",
              "    <tr>\n",
              "      <th>Date</th>\n",
              "      <th></th>\n",
              "      <th></th>\n",
              "      <th></th>\n",
              "      <th></th>\n",
              "      <th></th>\n",
              "      <th></th>\n",
              "      <th></th>\n",
              "      <th></th>\n",
              "      <th></th>\n",
              "    </tr>\n",
              "  </thead>\n",
              "  <tbody>\n",
              "    <tr>\n",
              "      <th>2001-01-03</th>\n",
              "      <td>1347.560059</td>\n",
              "      <td>100.000000</td>\n",
              "      <td>-11.375763</td>\n",
              "      <td>66.666667</td>\n",
              "      <td>59.091918</td>\n",
              "      <td>0.002734</td>\n",
              "      <td>0.0</td>\n",
              "      <td>1.0</td>\n",
              "      <td>1.0</td>\n",
              "    </tr>\n",
              "    <tr>\n",
              "      <th>2001-01-04</th>\n",
              "      <td>1333.339966</td>\n",
              "      <td>80.762337</td>\n",
              "      <td>-9.479367</td>\n",
              "      <td>78.716507</td>\n",
              "      <td>65.278406</td>\n",
              "      <td>0.800950</td>\n",
              "      <td>1.0</td>\n",
              "      <td>1.0</td>\n",
              "      <td>1.0</td>\n",
              "    </tr>\n",
              "    <tr>\n",
              "      <th>2001-01-05</th>\n",
              "      <td>1298.349976</td>\n",
              "      <td>53.492969</td>\n",
              "      <td>-10.676785</td>\n",
              "      <td>-29.735146</td>\n",
              "      <td>53.979125</td>\n",
              "      <td>0.914615</td>\n",
              "      <td>1.0</td>\n",
              "      <td>0.0</td>\n",
              "      <td>0.0</td>\n",
              "    </tr>\n",
              "    <tr>\n",
              "      <th>2001-01-08</th>\n",
              "      <td>1295.859985</td>\n",
              "      <td>52.143676</td>\n",
              "      <td>-11.691893</td>\n",
              "      <td>-86.857456</td>\n",
              "      <td>45.348682</td>\n",
              "      <td>0.112874</td>\n",
              "      <td>0.0</td>\n",
              "      <td>0.0</td>\n",
              "      <td>0.0</td>\n",
              "    </tr>\n",
              "    <tr>\n",
              "      <th>2001-01-09</th>\n",
              "      <td>1300.800049</td>\n",
              "      <td>54.590891</td>\n",
              "      <td>-11.959890</td>\n",
              "      <td>-32.288047</td>\n",
              "      <td>41.772636</td>\n",
              "      <td>0.658622</td>\n",
              "      <td>1.0</td>\n",
              "      <td>0.0</td>\n",
              "      <td>0.0</td>\n",
              "    </tr>\n",
              "  </tbody>\n",
              "</table>\n",
              "</div>"
            ],
            "text/plain": [
              "                  close         rsi  ...  STCK%_trends  MACD_trends\n",
              "Date                                 ...                           \n",
              "2001-01-03  1347.560059  100.000000  ...           1.0          1.0\n",
              "2001-01-04  1333.339966   80.762337  ...           1.0          1.0\n",
              "2001-01-05  1298.349976   53.492969  ...           0.0          0.0\n",
              "2001-01-08  1295.859985   52.143676  ...           0.0          0.0\n",
              "2001-01-09  1300.800049   54.590891  ...           0.0          0.0\n",
              "\n",
              "[5 rows x 9 columns]"
            ]
          },
          "metadata": {
            "tags": []
          },
          "execution_count": 70
        }
      ]
    },
    {
      "cell_type": "code",
      "metadata": {
        "id": "L7FBV5ikuprk"
      },
      "source": [
        "def trends_model_difference(df, trends_window):\n",
        "  n = len(df)\n",
        "  trends = []\n",
        "  for i in range(trends_window - 1, n):\n",
        "    if df[i] - df[i - trends_window + 1] > 0:\n",
        "      trends.append(1)\n",
        "    else :\n",
        "      trends.append(0)\n",
        "  if len(trends) == 1:\n",
        "    return trends[0]\n",
        "  else :\n",
        "    return trends"
      ],
      "execution_count": null,
      "outputs": []
    },
    {
      "cell_type": "markdown",
      "metadata": {
        "id": "mukOEHs5zAiQ"
      },
      "source": [
        "# **Train test split**"
      ]
    },
    {
      "cell_type": "code",
      "metadata": {
        "id": "xx30cCzwy4-1"
      },
      "source": [
        "df_arimax = df_relevant_indicators.reset_index(drop=True)\n",
        "target = df_arimax[['close']]\n",
        "del df_arimax['SPX Index']\n",
        "del df_arimax['close']"
      ],
      "execution_count": null,
      "outputs": []
    },
    {
      "cell_type": "code",
      "metadata": {
        "id": "POT3U_bGy-UU"
      },
      "source": [
        "df_train_arimax = df_arimax[:int(0.8*(len(df_arimax)))]\n",
        "target_snp = target[:int(0.8*(len(target)))]\n",
        "df_test_arimax = df_arimax[int(0.8*(len(df_arimax))):]\n",
        "valid = target[int(0.8*(len(target))):]"
      ],
      "execution_count": null,
      "outputs": []
    },
    {
      "cell_type": "code",
      "metadata": {
        "colab": {
          "base_uri": "https://localhost:8080/",
          "height": 419
        },
        "id": "KELDUhYwkz1S",
        "outputId": "69efa9d5-4ed4-4b13-fe27-7fcd41161af7"
      },
      "source": [
        "valid"
      ],
      "execution_count": null,
      "outputs": [
        {
          "output_type": "execute_result",
          "data": {
            "text/html": [
              "<div>\n",
              "<style scoped>\n",
              "    .dataframe tbody tr th:only-of-type {\n",
              "        vertical-align: middle;\n",
              "    }\n",
              "\n",
              "    .dataframe tbody tr th {\n",
              "        vertical-align: top;\n",
              "    }\n",
              "\n",
              "    .dataframe thead th {\n",
              "        text-align: right;\n",
              "    }\n",
              "</style>\n",
              "<table border=\"1\" class=\"dataframe\">\n",
              "  <thead>\n",
              "    <tr style=\"text-align: right;\">\n",
              "      <th></th>\n",
              "      <th>close</th>\n",
              "    </tr>\n",
              "  </thead>\n",
              "  <tbody>\n",
              "    <tr>\n",
              "      <th>3764</th>\n",
              "      <td>2049.580078</td>\n",
              "    </tr>\n",
              "    <tr>\n",
              "      <th>3765</th>\n",
              "      <td>2051.600098</td>\n",
              "    </tr>\n",
              "    <tr>\n",
              "      <th>3766</th>\n",
              "      <td>2049.800049</td>\n",
              "    </tr>\n",
              "    <tr>\n",
              "      <th>3767</th>\n",
              "      <td>2036.709961</td>\n",
              "    </tr>\n",
              "    <tr>\n",
              "      <th>3768</th>\n",
              "      <td>2035.939941</td>\n",
              "    </tr>\n",
              "    <tr>\n",
              "      <th>...</th>\n",
              "      <td>...</td>\n",
              "    </tr>\n",
              "    <tr>\n",
              "      <th>4700</th>\n",
              "      <td>3223.379883</td>\n",
              "    </tr>\n",
              "    <tr>\n",
              "      <th>4701</th>\n",
              "      <td>3239.909912</td>\n",
              "    </tr>\n",
              "    <tr>\n",
              "      <th>4702</th>\n",
              "      <td>3240.020020</td>\n",
              "    </tr>\n",
              "    <tr>\n",
              "      <th>4703</th>\n",
              "      <td>3221.290039</td>\n",
              "    </tr>\n",
              "    <tr>\n",
              "      <th>4704</th>\n",
              "      <td>3230.780029</td>\n",
              "    </tr>\n",
              "  </tbody>\n",
              "</table>\n",
              "<p>941 rows × 1 columns</p>\n",
              "</div>"
            ],
            "text/plain": [
              "            close\n",
              "3764  2049.580078\n",
              "3765  2051.600098\n",
              "3766  2049.800049\n",
              "3767  2036.709961\n",
              "3768  2035.939941\n",
              "...           ...\n",
              "4700  3223.379883\n",
              "4701  3239.909912\n",
              "4702  3240.020020\n",
              "4703  3221.290039\n",
              "4704  3230.780029\n",
              "\n",
              "[941 rows x 1 columns]"
            ]
          },
          "metadata": {
            "tags": []
          },
          "execution_count": 17
        }
      ]
    },
    {
      "cell_type": "markdown",
      "metadata": {
        "id": "toicHwNrYYhb"
      },
      "source": [
        "***\n",
        "# **WHICH MODEL TO USE** ?\n",
        "***"
      ]
    },
    {
      "cell_type": "markdown",
      "metadata": {
        "id": "6w7ujxwIYdyj"
      },
      "source": [
        "Which model should we be using for S&P 500 price forecasting with macroeconomic variables ? \n",
        "\n",
        "* **ARIMA-ARMA with external regressors (macroeconomics variables)**\n",
        "\n",
        "* **Multivariate VAR**\n",
        "\n",
        "It seems reasonable to think that our predictors (ie Unemployment, GDP etc.) are causal for the S&P 500 and not the other way around. We therefore can use a model like **Autoregressive Integrated Moving Average with Exogenous Inputs (ARIMAX)**. If on the other hand, our times series all depend on each other, then the use of **Vector AutoRegressive (VAR)** makes sense."
      ]
    },
    {
      "cell_type": "markdown",
      "metadata": {
        "id": "_408dZTqYww7"
      },
      "source": [
        "## **Stationary** ?"
      ]
    },
    {
      "cell_type": "code",
      "metadata": {
        "colab": {
          "base_uri": "https://localhost:8080/"
        },
        "id": "bKoZ-85eXtxU",
        "outputId": "0e4fdab7-afdd-4c97-fa5b-d1aaafcf2efc"
      },
      "source": [
        "stationary = adfuller(df_relevant_indicators['close'])\n",
        "print('\\033[1m' + 'ADF Statistic: %f' % stationary[0])\n",
        "print('p-value: %f' % stationary[1])\n",
        "print('Critical Values:')\n",
        "for key, value in stationary[4].items():\n",
        "\tprint('\\t%s: %.3f' % (key, value))"
      ],
      "execution_count": null,
      "outputs": [
        {
          "output_type": "stream",
          "text": [
            "\u001b[1mADF Statistic: 1.499958\n",
            "p-value: 0.997524\n",
            "Critical Values:\n",
            "\t1%: -3.432\n",
            "\t5%: -2.862\n",
            "\t10%: -2.567\n"
          ],
          "name": "stdout"
        }
      ]
    },
    {
      "cell_type": "markdown",
      "metadata": {
        "id": "cO8lnLzLZFpU"
      },
      "source": [
        "-----\n",
        "\n",
        "*As expected, the p-value which is equals to 0.99 is greater than 0.05. Our time series is therefore non stationary. We are going to make it stationary by differenciating. Let's use pandas diff() function.*\n",
        "\n",
        "-----\n"
      ]
    },
    {
      "cell_type": "code",
      "metadata": {
        "colab": {
          "base_uri": "https://localhost:8080/"
        },
        "id": "2WXQ2L7HZDvi",
        "outputId": "3aa54ac5-9bea-4ace-ac3c-078e94f9d694"
      },
      "source": [
        "df_stat = df_relevant_indicators['close'].diff()\n",
        "df_stat.head(5)"
      ],
      "execution_count": null,
      "outputs": [
        {
          "output_type": "execute_result",
          "data": {
            "text/plain": [
              "Date\n",
              "2001-01-02          NaN\n",
              "2001-01-03    64.290039\n",
              "2001-01-04   -14.220093\n",
              "2001-01-05   -34.989990\n",
              "2001-01-08    -2.489990\n",
              "Name: close, dtype: float64"
            ]
          },
          "metadata": {
            "tags": []
          },
          "execution_count": 24
        }
      ]
    },
    {
      "cell_type": "code",
      "metadata": {
        "colab": {
          "base_uri": "https://localhost:8080/"
        },
        "id": "eluVNC4_a6pa",
        "outputId": "ff7f7d70-cd2b-44cd-a64b-1a63c9ddf27a"
      },
      "source": [
        "result = adfuller(df_stat.dropna())\n",
        "print('\\033[94m')\n",
        "print('\\033[1m' + 'ADF Statistic: %f' % result[0])\n",
        "print('p-value: %f' % result[1])\n",
        "print('Critical Values:')\n",
        "for key, value in result[4].items():\n",
        "\tprint('\\t%s: %.3f' % (key, value))"
      ],
      "execution_count": null,
      "outputs": [
        {
          "output_type": "stream",
          "text": [
            "\u001b[94m\n",
            "\u001b[1mADF Statistic: -17.306337\n",
            "p-value: 0.000000\n",
            "Critical Values:\n",
            "\t1%: -3.432\n",
            "\t5%: -2.862\n",
            "\t10%: -2.567\n"
          ],
          "name": "stdout"
        }
      ]
    },
    {
      "cell_type": "markdown",
      "metadata": {
        "id": "OaWqVtkpbV1S"
      },
      "source": [
        "**One differenciating makes the stock price stationary. For our ARIMA model, our model d parameter will therefore be set to $d=1$. Let's plot our stationary time series**"
      ]
    },
    {
      "cell_type": "markdown",
      "metadata": {
        "id": "DAwHJXJCe7hR"
      },
      "source": [
        "## **ARIMAX-ARMAX Model**"
      ]
    },
    {
      "cell_type": "markdown",
      "metadata": {
        "id": "GqXGG1JpcuRd"
      },
      "source": [
        "ARIMAX are ARIMA models which include exogenous regressors. Here the macroecomics variables.\n",
        "\n",
        "The general steps to implement an ARIMA model are –\n",
        "\n",
        "1. **Load the data**\n",
        "2. **Preprocessing**\n",
        "3. **Make series stationary**\n",
        "4. **Determine d value**\n",
        "5. **Create ACF and PACF plots** \n",
        "6. **Determine the p and q values**\n",
        "7. **Fit ARIMA model**\n",
        "8. **Predict the future values**\n",
        "9. **Evaluate model**"
      ]
    },
    {
      "cell_type": "markdown",
      "metadata": {
        "id": "u0cQvYhxwgIr"
      },
      "source": [
        "\n",
        "\n",
        "```\n",
        "# Auto_arima helps get the best model without having to do steps 3, 4, 5 and 6. \n",
        "```\n",
        "\n",
        "\n"
      ]
    },
    {
      "cell_type": "markdown",
      "metadata": {
        "id": "VZWPCPpmg0UH"
      },
      "source": [
        "---\n",
        "### **Build model**\n",
        "---"
      ]
    },
    {
      "cell_type": "code",
      "metadata": {
        "id": "H2a6jNoZcu_j"
      },
      "source": [
        "from statsmodels.tsa.arima_model import ARIMA\n",
        "mymodel = ARIMA(target_snp, order=(2,1,2), exog=df_train_arimax) "
      ],
      "execution_count": null,
      "outputs": []
    },
    {
      "cell_type": "code",
      "metadata": {
        "colab": {
          "base_uri": "https://localhost:8080/",
          "height": 565
        },
        "id": "OqQUvq5GfU1g",
        "outputId": "a0479338-b266-45ae-c234-1abdc4a7ad91"
      },
      "source": [
        "fitted = mymodel.fit(method='css-mle', trend='c')\n",
        "fitted.summary()"
      ],
      "execution_count": null,
      "outputs": [
        {
          "output_type": "execute_result",
          "data": {
            "text/html": [
              "<table class=\"simpletable\">\n",
              "<caption>ARIMA Model Results</caption>\n",
              "<tr>\n",
              "  <th>Dep. Variable:</th>      <td>D.close</td>     <th>  No. Observations:  </th>    <td>3763</td>   \n",
              "</tr>\n",
              "<tr>\n",
              "  <th>Model:</th>          <td>ARIMA(2, 1, 2)</td>  <th>  Log Likelihood     </th> <td>-15453.058</td>\n",
              "</tr>\n",
              "<tr>\n",
              "  <th>Method:</th>             <td>css-mle</td>     <th>  S.D. of innovations</th>   <td>14.697</td>  \n",
              "</tr>\n",
              "<tr>\n",
              "  <th>Date:</th>          <td>Sun, 11 Apr 2021</td> <th>  AIC                </th>  <td>30932.116</td>\n",
              "</tr>\n",
              "<tr>\n",
              "  <th>Time:</th>              <td>13:47:09</td>     <th>  BIC                </th>  <td>31013.145</td>\n",
              "</tr>\n",
              "<tr>\n",
              "  <th>Sample:</th>                <td>1</td>        <th>  HQIC               </th>  <td>30960.928</td>\n",
              "</tr>\n",
              "<tr>\n",
              "  <th></th>                       <td> </td>        <th>                     </th>      <td> </td>    \n",
              "</tr>\n",
              "</table>\n",
              "<table class=\"simpletable\">\n",
              "<tr>\n",
              "                 <td></td>                   <th>coef</th>     <th>std err</th>      <th>z</th>      <th>P>|z|</th>  <th>[0.025</th>    <th>0.975]</th>  \n",
              "</tr>\n",
              "<tr>\n",
              "  <th>const</th>                          <td>   16.6597</td> <td>    4.439</td> <td>    3.753</td> <td> 0.000</td> <td>    7.960</td> <td>   25.359</td>\n",
              "</tr>\n",
              "<tr>\n",
              "  <th>FDTR Index</th>                     <td>   -0.0301</td> <td>    0.273</td> <td>   -0.110</td> <td> 0.912</td> <td>   -0.566</td> <td>    0.506</td>\n",
              "</tr>\n",
              "<tr>\n",
              "  <th>Vix Index</th>                      <td>   -0.3084</td> <td>    0.031</td> <td>   -9.888</td> <td> 0.000</td> <td>   -0.369</td> <td>   -0.247</td>\n",
              "</tr>\n",
              "<tr>\n",
              "  <th>Surprise économique</th>            <td>   -0.6077</td> <td>    0.879</td> <td>   -0.691</td> <td> 0.489</td> <td>   -2.330</td> <td>    1.115</td>\n",
              "</tr>\n",
              "<tr>\n",
              "  <th>Inflation US</th>                   <td>   -0.5864</td> <td>    0.216</td> <td>   -2.716</td> <td> 0.007</td> <td>   -1.010</td> <td>   -0.163</td>\n",
              "</tr>\n",
              "<tr>\n",
              "  <th>Confiance des consommateurs US</th> <td>   -0.1058</td> <td>    0.025</td> <td>   -4.163</td> <td> 0.000</td> <td>   -0.156</td> <td>   -0.056</td>\n",
              "</tr>\n",
              "<tr>\n",
              "  <th>Taux 10 ans US</th>                 <td>    0.8440</td> <td>    0.371</td> <td>    2.274</td> <td> 0.023</td> <td>    0.117</td> <td>    1.571</td>\n",
              "</tr>\n",
              "<tr>\n",
              "  <th>Chômage US</th>                     <td>   -0.4809</td> <td>    0.318</td> <td>   -1.513</td> <td> 0.130</td> <td>   -1.104</td> <td>    0.142</td>\n",
              "</tr>\n",
              "<tr>\n",
              "  <th>ar.L1.D.close</th>                  <td>    0.1704</td> <td>    0.112</td> <td>    1.516</td> <td> 0.130</td> <td>   -0.050</td> <td>    0.391</td>\n",
              "</tr>\n",
              "<tr>\n",
              "  <th>ar.L2.D.close</th>                  <td>   -0.7612</td> <td>    0.078</td> <td>   -9.744</td> <td> 0.000</td> <td>   -0.914</td> <td>   -0.608</td>\n",
              "</tr>\n",
              "<tr>\n",
              "  <th>ma.L1.D.close</th>                  <td>   -0.2276</td> <td>    0.114</td> <td>   -1.996</td> <td> 0.046</td> <td>   -0.451</td> <td>   -0.004</td>\n",
              "</tr>\n",
              "<tr>\n",
              "  <th>ma.L2.D.close</th>                  <td>    0.7662</td> <td>    0.074</td> <td>   10.400</td> <td> 0.000</td> <td>    0.622</td> <td>    0.911</td>\n",
              "</tr>\n",
              "</table>\n",
              "<table class=\"simpletable\">\n",
              "<caption>Roots</caption>\n",
              "<tr>\n",
              "    <td></td>   <th>            Real</th>  <th>         Imaginary</th> <th>         Modulus</th>  <th>        Frequency</th>\n",
              "</tr>\n",
              "<tr>\n",
              "  <th>AR.1</th> <td>           0.1119</td> <td>          -1.1407j</td> <td>           1.1462</td> <td>          -0.2344</td>\n",
              "</tr>\n",
              "<tr>\n",
              "  <th>AR.2</th> <td>           0.1119</td> <td>          +1.1407j</td> <td>           1.1462</td> <td>           0.2344</td>\n",
              "</tr>\n",
              "<tr>\n",
              "  <th>MA.1</th> <td>           0.1485</td> <td>          -1.1327j</td> <td>           1.1424</td> <td>          -0.2292</td>\n",
              "</tr>\n",
              "<tr>\n",
              "  <th>MA.2</th> <td>           0.1485</td> <td>          +1.1327j</td> <td>           1.1424</td> <td>           0.2292</td>\n",
              "</tr>\n",
              "</table>"
            ],
            "text/plain": [
              "<class 'statsmodels.iolib.summary.Summary'>\n",
              "\"\"\"\n",
              "                             ARIMA Model Results                              \n",
              "==============================================================================\n",
              "Dep. Variable:                D.close   No. Observations:                 3763\n",
              "Model:                 ARIMA(2, 1, 2)   Log Likelihood              -15453.058\n",
              "Method:                       css-mle   S.D. of innovations             14.697\n",
              "Date:                Sun, 11 Apr 2021   AIC                          30932.116\n",
              "Time:                        13:47:09   BIC                          31013.145\n",
              "Sample:                             1   HQIC                         30960.928\n",
              "                                                                              \n",
              "==================================================================================================\n",
              "                                     coef    std err          z      P>|z|      [0.025      0.975]\n",
              "--------------------------------------------------------------------------------------------------\n",
              "const                             16.6597      4.439      3.753      0.000       7.960      25.359\n",
              "FDTR Index                        -0.0301      0.273     -0.110      0.912      -0.566       0.506\n",
              "Vix Index                         -0.3084      0.031     -9.888      0.000      -0.369      -0.247\n",
              "Surprise économique               -0.6077      0.879     -0.691      0.489      -2.330       1.115\n",
              "Inflation US                      -0.5864      0.216     -2.716      0.007      -1.010      -0.163\n",
              "Confiance des consommateurs US    -0.1058      0.025     -4.163      0.000      -0.156      -0.056\n",
              "Taux 10 ans US                     0.8440      0.371      2.274      0.023       0.117       1.571\n",
              "Chômage US                        -0.4809      0.318     -1.513      0.130      -1.104       0.142\n",
              "ar.L1.D.close                      0.1704      0.112      1.516      0.130      -0.050       0.391\n",
              "ar.L2.D.close                     -0.7612      0.078     -9.744      0.000      -0.914      -0.608\n",
              "ma.L1.D.close                     -0.2276      0.114     -1.996      0.046      -0.451      -0.004\n",
              "ma.L2.D.close                      0.7662      0.074     10.400      0.000       0.622       0.911\n",
              "                                    Roots                                    \n",
              "=============================================================================\n",
              "                  Real          Imaginary           Modulus         Frequency\n",
              "-----------------------------------------------------------------------------\n",
              "AR.1            0.1119           -1.1407j            1.1462           -0.2344\n",
              "AR.2            0.1119           +1.1407j            1.1462            0.2344\n",
              "MA.1            0.1485           -1.1327j            1.1424           -0.2292\n",
              "MA.2            0.1485           +1.1327j            1.1424            0.2292\n",
              "-----------------------------------------------------------------------------\n",
              "\"\"\""
            ]
          },
          "metadata": {
            "tags": []
          },
          "execution_count": 19
        }
      ]
    },
    {
      "cell_type": "markdown",
      "metadata": {
        "id": "C3YvEi84-ZaF"
      },
      "source": [
        "# **Residuals**"
      ]
    },
    {
      "cell_type": "code",
      "metadata": {
        "colab": {
          "base_uri": "https://localhost:8080/",
          "height": 431
        },
        "id": "3u-xqt-q-Orc",
        "outputId": "19e40cdc-470e-4575-f9ed-abf68eaca08d"
      },
      "source": [
        "residuals = pd.DataFrame(fitted.resid)\n",
        "residuals.plot(kind='kde')\n",
        "plt.show()"
      ],
      "execution_count": null,
      "outputs": [
        {
          "output_type": "display_data",
          "data": {
            "image/png": "[encoded data removed]",
            "text/plain": [
              "<Figure size 1440x504 with 1 Axes>"
            ]
          },
          "metadata": {
            "tags": []
          }
        }
      ]
    },
    {
      "cell_type": "markdown",
      "metadata": {
        "id": "mSwX_iX5g7kS"
      },
      "source": [
        "---\n",
        "### **Forecast stock price given a time horizon**\n",
        "---\n"
      ]
    },
    {
      "cell_type": "code",
      "metadata": {
        "colab": {
          "base_uri": "https://localhost:8080/",
          "height": 235
        },
        "id": "UKl6Y1I5SeSJ",
        "outputId": "d14d848d-78bc-4e09-fa8b-b5366b5f408d"
      },
      "source": [
        "df_test_arimax[0:6]"
      ],
      "execution_count": null,
      "outputs": [
        {
          "output_type": "execute_result",
          "data": {
            "text/html": [
              "<div>\n",
              "<style scoped>\n",
              "    .dataframe tbody tr th:only-of-type {\n",
              "        vertical-align: middle;\n",
              "    }\n",
              "\n",
              "    .dataframe tbody tr th {\n",
              "        vertical-align: top;\n",
              "    }\n",
              "\n",
              "    .dataframe thead th {\n",
              "        text-align: right;\n",
              "    }\n",
              "</style>\n",
              "<table border=\"1\" class=\"dataframe\">\n",
              "  <thead>\n",
              "    <tr style=\"text-align: right;\">\n",
              "      <th></th>\n",
              "      <th>FDTR Index</th>\n",
              "      <th>Vix Index</th>\n",
              "      <th>Surprise économique</th>\n",
              "      <th>Inflation US</th>\n",
              "      <th>Confiance des consommateurs US</th>\n",
              "      <th>Taux 10 ans US</th>\n",
              "      <th>Chômage US</th>\n",
              "    </tr>\n",
              "  </thead>\n",
              "  <tbody>\n",
              "    <tr>\n",
              "      <th>3764</th>\n",
              "      <td>0.5</td>\n",
              "      <td>14.02</td>\n",
              "      <td>-0.274</td>\n",
              "      <td>1.0</td>\n",
              "      <td>94.0</td>\n",
              "      <td>1.8732</td>\n",
              "      <td>4.9</td>\n",
              "    </tr>\n",
              "    <tr>\n",
              "      <th>3765</th>\n",
              "      <td>0.5</td>\n",
              "      <td>13.79</td>\n",
              "      <td>-0.274</td>\n",
              "      <td>1.0</td>\n",
              "      <td>94.0</td>\n",
              "      <td>1.9155</td>\n",
              "      <td>4.9</td>\n",
              "    </tr>\n",
              "    <tr>\n",
              "      <th>3766</th>\n",
              "      <td>0.5</td>\n",
              "      <td>14.17</td>\n",
              "      <td>-0.274</td>\n",
              "      <td>1.0</td>\n",
              "      <td>94.0</td>\n",
              "      <td>1.9403</td>\n",
              "      <td>4.9</td>\n",
              "    </tr>\n",
              "    <tr>\n",
              "      <th>3767</th>\n",
              "      <td>0.5</td>\n",
              "      <td>14.94</td>\n",
              "      <td>-0.274</td>\n",
              "      <td>1.0</td>\n",
              "      <td>94.0</td>\n",
              "      <td>1.8786</td>\n",
              "      <td>4.9</td>\n",
              "    </tr>\n",
              "    <tr>\n",
              "      <th>3768</th>\n",
              "      <td>0.5</td>\n",
              "      <td>14.74</td>\n",
              "      <td>-0.274</td>\n",
              "      <td>1.0</td>\n",
              "      <td>94.0</td>\n",
              "      <td>1.9000</td>\n",
              "      <td>4.9</td>\n",
              "    </tr>\n",
              "    <tr>\n",
              "      <th>3769</th>\n",
              "      <td>0.5</td>\n",
              "      <td>15.24</td>\n",
              "      <td>-0.274</td>\n",
              "      <td>1.0</td>\n",
              "      <td>94.0</td>\n",
              "      <td>1.8860</td>\n",
              "      <td>4.9</td>\n",
              "    </tr>\n",
              "  </tbody>\n",
              "</table>\n",
              "</div>"
            ],
            "text/plain": [
              "      FDTR Index  Vix Index  ...  Taux 10 ans US  Chômage US\n",
              "3764         0.5      14.02  ...          1.8732         4.9\n",
              "3765         0.5      13.79  ...          1.9155         4.9\n",
              "3766         0.5      14.17  ...          1.9403         4.9\n",
              "3767         0.5      14.94  ...          1.8786         4.9\n",
              "3768         0.5      14.74  ...          1.9000         4.9\n",
              "3769         0.5      15.24  ...          1.8860         4.9\n",
              "\n",
              "[6 rows x 7 columns]"
            ]
          },
          "metadata": {
            "tags": []
          },
          "execution_count": 26
        }
      ]
    },
    {
      "cell_type": "code",
      "metadata": {
        "id": "ELBHfY68fakP"
      },
      "source": [
        "def predictions(step, fitted_model, start_index, df_test):\n",
        "  start = start_index\n",
        "  end = start + step\n",
        "  predictions = []\n",
        "  for i in range(0, len(df_test) - step, step):\n",
        "    fc_arima = fitted.predict(start=start + i, end=end + i, exog=df_test[i:i+step ], typ='levels')\n",
        "    predictions.append(fc_arima)\n",
        "  return predictions"
      ],
      "execution_count": null,
      "outputs": []
    },
    {
      "cell_type": "code",
      "metadata": {
        "id": "_Mvo79pKakD3"
      },
      "source": [
        "predictions(5, fitted, 3764, df_test_arimax)"
      ],
      "execution_count": null,
      "outputs": []
    },
    {
      "cell_type": "code",
      "metadata": {
        "id": "bexER-B8bQkv"
      },
      "source": [
        "step = 5\n",
        "start = 3764\n",
        "end = start + step"
      ],
      "execution_count": null,
      "outputs": []
    },
    {
      "cell_type": "code",
      "metadata": {
        "colab": {
          "base_uri": "https://localhost:8080/",
          "height": 419
        },
        "id": "L5FxUPJZdt8A",
        "outputId": "b0aeb9a4-ac2f-4529-81cf-9ec0531c9e77"
      },
      "source": [
        "test = df_test_arimax.reset_index(drop=True)\n",
        "test"
      ],
      "execution_count": null,
      "outputs": [
        {
          "output_type": "execute_result",
          "data": {
            "text/html": [
              "<div>\n",
              "<style scoped>\n",
              "    .dataframe tbody tr th:only-of-type {\n",
              "        vertical-align: middle;\n",
              "    }\n",
              "\n",
              "    .dataframe tbody tr th {\n",
              "        vertical-align: top;\n",
              "    }\n",
              "\n",
              "    .dataframe thead th {\n",
              "        text-align: right;\n",
              "    }\n",
              "</style>\n",
              "<table border=\"1\" class=\"dataframe\">\n",
              "  <thead>\n",
              "    <tr style=\"text-align: right;\">\n",
              "      <th></th>\n",
              "      <th>FDTR Index</th>\n",
              "      <th>Vix Index</th>\n",
              "      <th>Surprise économique</th>\n",
              "      <th>Inflation US</th>\n",
              "      <th>Confiance des consommateurs US</th>\n",
              "      <th>Taux 10 ans US</th>\n",
              "      <th>Chômage US</th>\n",
              "    </tr>\n",
              "  </thead>\n",
              "  <tbody>\n",
              "    <tr>\n",
              "      <th>0</th>\n",
              "      <td>0.50</td>\n",
              "      <td>14.02</td>\n",
              "      <td>-0.274</td>\n",
              "      <td>1.0</td>\n",
              "      <td>94.0</td>\n",
              "      <td>1.8732</td>\n",
              "      <td>4.9</td>\n",
              "    </tr>\n",
              "    <tr>\n",
              "      <th>1</th>\n",
              "      <td>0.50</td>\n",
              "      <td>13.79</td>\n",
              "      <td>-0.274</td>\n",
              "      <td>1.0</td>\n",
              "      <td>94.0</td>\n",
              "      <td>1.9155</td>\n",
              "      <td>4.9</td>\n",
              "    </tr>\n",
              "    <tr>\n",
              "      <th>2</th>\n",
              "      <td>0.50</td>\n",
              "      <td>14.17</td>\n",
              "      <td>-0.274</td>\n",
              "      <td>1.0</td>\n",
              "      <td>94.0</td>\n",
              "      <td>1.9403</td>\n",
              "      <td>4.9</td>\n",
              "    </tr>\n",
              "    <tr>\n",
              "      <th>3</th>\n",
              "      <td>0.50</td>\n",
              "      <td>14.94</td>\n",
              "      <td>-0.274</td>\n",
              "      <td>1.0</td>\n",
              "      <td>94.0</td>\n",
              "      <td>1.8786</td>\n",
              "      <td>4.9</td>\n",
              "    </tr>\n",
              "    <tr>\n",
              "      <th>4</th>\n",
              "      <td>0.50</td>\n",
              "      <td>14.74</td>\n",
              "      <td>-0.274</td>\n",
              "      <td>1.0</td>\n",
              "      <td>94.0</td>\n",
              "      <td>1.9000</td>\n",
              "      <td>4.9</td>\n",
              "    </tr>\n",
              "    <tr>\n",
              "      <th>...</th>\n",
              "      <td>...</td>\n",
              "      <td>...</td>\n",
              "      <td>...</td>\n",
              "      <td>...</td>\n",
              "      <td>...</td>\n",
              "      <td>...</td>\n",
              "      <td>...</td>\n",
              "    </tr>\n",
              "    <tr>\n",
              "      <th>936</th>\n",
              "      <td>1.75</td>\n",
              "      <td>12.67</td>\n",
              "      <td>0.138</td>\n",
              "      <td>2.1</td>\n",
              "      <td>126.8</td>\n",
              "      <td>1.8996</td>\n",
              "      <td>3.5</td>\n",
              "    </tr>\n",
              "    <tr>\n",
              "      <th>937</th>\n",
              "      <td>1.75</td>\n",
              "      <td>12.65</td>\n",
              "      <td>0.138</td>\n",
              "      <td>2.1</td>\n",
              "      <td>126.8</td>\n",
              "      <td>1.8944</td>\n",
              "      <td>3.5</td>\n",
              "    </tr>\n",
              "    <tr>\n",
              "      <th>938</th>\n",
              "      <td>1.75</td>\n",
              "      <td>13.43</td>\n",
              "      <td>0.138</td>\n",
              "      <td>2.1</td>\n",
              "      <td>126.8</td>\n",
              "      <td>1.8752</td>\n",
              "      <td>3.5</td>\n",
              "    </tr>\n",
              "    <tr>\n",
              "      <th>939</th>\n",
              "      <td>1.75</td>\n",
              "      <td>14.82</td>\n",
              "      <td>0.138</td>\n",
              "      <td>2.1</td>\n",
              "      <td>126.8</td>\n",
              "      <td>1.8788</td>\n",
              "      <td>3.5</td>\n",
              "    </tr>\n",
              "    <tr>\n",
              "      <th>940</th>\n",
              "      <td>1.75</td>\n",
              "      <td>13.78</td>\n",
              "      <td>0.000</td>\n",
              "      <td>2.3</td>\n",
              "      <td>128.2</td>\n",
              "      <td>1.9175</td>\n",
              "      <td>3.5</td>\n",
              "    </tr>\n",
              "  </tbody>\n",
              "</table>\n",
              "<p>941 rows × 7 columns</p>\n",
              "</div>"
            ],
            "text/plain": [
              "     FDTR Index  Vix Index  ...  Taux 10 ans US  Chômage US\n",
              "0          0.50      14.02  ...          1.8732         4.9\n",
              "1          0.50      13.79  ...          1.9155         4.9\n",
              "2          0.50      14.17  ...          1.9403         4.9\n",
              "3          0.50      14.94  ...          1.8786         4.9\n",
              "4          0.50      14.74  ...          1.9000         4.9\n",
              "..          ...        ...  ...             ...         ...\n",
              "936        1.75      12.67  ...          1.8996         3.5\n",
              "937        1.75      12.65  ...          1.8944         3.5\n",
              "938        1.75      13.43  ...          1.8752         3.5\n",
              "939        1.75      14.82  ...          1.8788         3.5\n",
              "940        1.75      13.78  ...          1.9175         3.5\n",
              "\n",
              "[941 rows x 7 columns]"
            ]
          },
          "metadata": {
            "tags": []
          },
          "execution_count": 62
        }
      ]
    },
    {
      "cell_type": "code",
      "metadata": {
        "id": "oi4X_IhubNtk"
      },
      "source": [
        "fitted.predict(start=start+1, end=end+1  , exog=test[:step+3], typ='levels')"
      ],
      "execution_count": null,
      "outputs": []
    },
    {
      "cell_type": "code",
      "metadata": {
        "id": "t6irbgWTbxdI"
      },
      "source": [
        "zfitted.predict(start=start + step, end=end + step, exog=df_test_arimax[], typ='levels')"
      ],
      "execution_count": null,
      "outputs": []
    },
    {
      "cell_type": "code",
      "metadata": {
        "colab": {
          "base_uri": "https://localhost:8080/"
        },
        "id": "snReCrSgeb5J",
        "outputId": "c7b4709d-b409-4bf5-a0d2-03ef023cb15a"
      },
      "source": [
        "predictions = []\n",
        "step = 10\n",
        "start = 3764\n",
        "end = start + step\n",
        "for i in range(0, len_data - step, step):\n",
        "  forecast = fitted.predict(start=start, end=end, exog=df_test_arimax[i:step + i], typ='levels')\n",
        "  predictions.append(forecast)"
      ],
      "execution_count": null,
      "outputs": [
        {
          "output_type": "execute_result",
          "data": {
            "text/plain": [
              "3763    2039.842969\n",
              "3764    2040.925635\n",
              "3765    2043.546867\n",
              "3766    2044.845606\n",
              "3767    2044.803700\n",
              "3768    2045.140045\n",
              "3769    2047.018536\n",
              "dtype: float64"
            ]
          },
          "metadata": {
            "tags": []
          },
          "execution_count": 102
        }
      ]
    },
    {
      "cell_type": "markdown",
      "metadata": {
        "id": "t4fnm4SiAnKy"
      },
      "source": [
        "### **Recall - Precision - F1_score - AUC**"
      ]
    },
    {
      "cell_type": "markdown",
      "metadata": {
        "id": "ejSinjhXNZ_k"
      },
      "source": [
        "**Recall**, or **sensitivity**, is the rate of true positives, i.e. the proportion of positives that have been correctly identified."
      ]
    },
    {
      "cell_type": "code",
      "metadata": {
        "id": "t3Ez15CJBYH1"
      },
      "source": [
        "from sklearn import metrics"
      ],
      "execution_count": null,
      "outputs": []
    },
    {
      "cell_type": "code",
      "metadata": {
        "id": "szLs34mrQIwZ"
      },
      "source": [
        "def metrics_classification_report(expected, predicted, trends_model):\n",
        "  df_metrics_report = pd.DataFrame(columns = [trends_model], index = ['Accuracy', 'F1', 'Recall', 'Precision','Specificity'])\n",
        "  df_metrics_report[trends_model]['Accuracy'] = metrics.accuracy_score(expected, predicted)\n",
        "  df_metrics_report[trends_model]['F1'] = metrics.f1_score(expected, predicted)\n",
        "  df_metrics_report[trends_model]['Precision'] = metrics.precision_score(expected, predicted)\n",
        "  df_metrics_report[trends_model]['Recall'] = metrics.recall_score(expected, predicted)\n",
        "  tn, fp, fn, tp = metrics.confusion_matrix(expected, predicted).ravel()\n",
        "  df_metrics_report[trends_model]['Specificity'] = tn/(fp + tn)\n",
        "  return df_metrics_report"
      ],
      "execution_count": null,
      "outputs": []
    },
    {
      "cell_type": "code",
      "metadata": {
        "id": "599NAbYK4AEU"
      },
      "source": [
        "def trends_forecast_arima(fitted_model, step, len_data):\n",
        "  predictions = []\n",
        "  for i in range(0, len_data - step, step):\n",
        "    forecast, se, conf = fitted_model.forecast(step, exog=df_test_arimax[i:i+step],alpha=0.05)\n",
        "    predictions.append(forecast)\n",
        "  return predictions"
      ],
      "execution_count": null,
      "outputs": []
    },
    {
      "cell_type": "code",
      "metadata": {
        "id": "U7oePIE8wgRc"
      },
      "source": [
        "trends_window_1_arima = 5"
      ],
      "execution_count": null,
      "outputs": []
    },
    {
      "cell_type": "code",
      "metadata": {
        "id": "ysAcCqmvN5oy"
      },
      "source": [
        "pred = trends_forecast_arima(fitted, trends_window_1_arima, len(valid))"
      ],
      "execution_count": null,
      "outputs": []
    },
    {
      "cell_type": "code",
      "metadata": {
        "id": "MWWbybCAP3bo"
      },
      "source": [
        "L = []\n",
        "for elem in pred:\n",
        "  for i in elem:\n",
        "    L.append(i)"
      ],
      "execution_count": null,
      "outputs": []
    },
    {
      "cell_type": "code",
      "metadata": {
        "colab": {
          "base_uri": "https://localhost:8080/",
          "height": 392
        },
        "id": "BN1U5HCtag-2",
        "outputId": "6b302214-1171-4bec-a554-19497edef281"
      },
      "source": [
        "valid.plot()"
      ],
      "execution_count": null,
      "outputs": [
        {
          "output_type": "execute_result",
          "data": {
            "text/plain": [
              "<matplotlib.axes._subplots.AxesSubplot at 0x7f9d5d99f8d0>"
            ]
          },
          "metadata": {
            "tags": []
          },
          "execution_count": 46
        },
        {
          "output_type": "display_data",
          "data": {
            "image/png": "[encoded data removed]",
            "text/plain": [
              "<Figure size 2000x500 with 1 Axes>"
            ]
          },
          "metadata": {
            "tags": []
          }
        }
      ]
    },
    {
      "cell_type": "code",
      "metadata": {
        "id": "ffpuEA8uDJUg"
      },
      "source": [
        "df_predict = pd.DataFrame(L, columns=['close'])"
      ],
      "execution_count": null,
      "outputs": []
    },
    {
      "cell_type": "code",
      "metadata": {
        "colab": {
          "base_uri": "https://localhost:8080/",
          "height": 514
        },
        "id": "L5RRrb0fZ5BZ",
        "outputId": "eebff7f2-b0dd-4a50-8b79-c8bc0f06b781"
      },
      "source": [
        "df_predict.head(15)"
      ],
      "execution_count": null,
      "outputs": [
        {
          "output_type": "execute_result",
          "data": {
            "text/html": [
              "<div>\n",
              "<style scoped>\n",
              "    .dataframe tbody tr th:only-of-type {\n",
              "        vertical-align: middle;\n",
              "    }\n",
              "\n",
              "    .dataframe tbody tr th {\n",
              "        vertical-align: top;\n",
              "    }\n",
              "\n",
              "    .dataframe thead th {\n",
              "        text-align: right;\n",
              "    }\n",
              "</style>\n",
              "<table border=\"1\" class=\"dataframe\">\n",
              "  <thead>\n",
              "    <tr style=\"text-align: right;\">\n",
              "      <th></th>\n",
              "      <th>close</th>\n",
              "    </tr>\n",
              "  </thead>\n",
              "  <tbody>\n",
              "    <tr>\n",
              "      <th>0</th>\n",
              "      <td>2039.842969</td>\n",
              "    </tr>\n",
              "    <tr>\n",
              "      <th>1</th>\n",
              "      <td>2040.925635</td>\n",
              "    </tr>\n",
              "    <tr>\n",
              "      <th>2</th>\n",
              "      <td>2043.546867</td>\n",
              "    </tr>\n",
              "    <tr>\n",
              "      <th>3</th>\n",
              "      <td>2044.845606</td>\n",
              "    </tr>\n",
              "    <tr>\n",
              "      <th>4</th>\n",
              "      <td>2044.803700</td>\n",
              "    </tr>\n",
              "    <tr>\n",
              "      <th>5</th>\n",
              "      <td>2039.477559</td>\n",
              "    </tr>\n",
              "    <tr>\n",
              "      <th>6</th>\n",
              "      <td>2040.456448</td>\n",
              "    </tr>\n",
              "    <tr>\n",
              "      <th>7</th>\n",
              "      <td>2043.166618</td>\n",
              "    </tr>\n",
              "    <tr>\n",
              "      <th>8</th>\n",
              "      <td>2044.293639</td>\n",
              "    </tr>\n",
              "    <tr>\n",
              "      <th>9</th>\n",
              "      <td>2044.263912</td>\n",
              "    </tr>\n",
              "    <tr>\n",
              "      <th>10</th>\n",
              "      <td>2039.333859</td>\n",
              "    </tr>\n",
              "    <tr>\n",
              "      <th>11</th>\n",
              "      <td>2039.364713</td>\n",
              "    </tr>\n",
              "    <tr>\n",
              "      <th>12</th>\n",
              "      <td>2041.469888</td>\n",
              "    </tr>\n",
              "    <tr>\n",
              "      <th>13</th>\n",
              "      <td>2041.848058</td>\n",
              "    </tr>\n",
              "    <tr>\n",
              "      <th>14</th>\n",
              "      <td>2041.076007</td>\n",
              "    </tr>\n",
              "  </tbody>\n",
              "</table>\n",
              "</div>"
            ],
            "text/plain": [
              "          close\n",
              "0   2039.842969\n",
              "1   2040.925635\n",
              "2   2043.546867\n",
              "3   2044.845606\n",
              "4   2044.803700\n",
              "5   2039.477559\n",
              "6   2040.456448\n",
              "7   2043.166618\n",
              "8   2044.293639\n",
              "9   2044.263912\n",
              "10  2039.333859\n",
              "11  2039.364713\n",
              "12  2041.469888\n",
              "13  2041.848058\n",
              "14  2041.076007"
            ]
          },
          "metadata": {
            "tags": []
          },
          "execution_count": 44
        }
      ]
    },
    {
      "cell_type": "code",
      "metadata": {
        "id": "efUGQ1fXvI_l"
      },
      "source": [
        "actual_trends = trends_model_difference(valid['close'][:-1], trends_window_1_arima)\n",
        "predicted_trends = trends_model_difference(df_predict['close'], trends_window_1_arima)"
      ],
      "execution_count": null,
      "outputs": []
    },
    {
      "cell_type": "code",
      "metadata": {
        "id": "fhXij2TXveaf"
      },
      "source": [
        "df_trends = pd.DataFrame(predicted_trends, columns=['Pred'])\n",
        "df_trends['Actual'] = actual_trends"
      ],
      "execution_count": null,
      "outputs": []
    },
    {
      "cell_type": "code",
      "metadata": {
        "colab": {
          "base_uri": "https://localhost:8080/",
          "height": 419
        },
        "id": "R5MF2fchouC6",
        "outputId": "501e2a33-218b-4032-d0f7-2692aea01b57"
      },
      "source": [
        "df_trends"
      ],
      "execution_count": null,
      "outputs": [
        {
          "output_type": "execute_result",
          "data": {
            "text/html": [
              "<div>\n",
              "<style scoped>\n",
              "    .dataframe tbody tr th:only-of-type {\n",
              "        vertical-align: middle;\n",
              "    }\n",
              "\n",
              "    .dataframe tbody tr th {\n",
              "        vertical-align: top;\n",
              "    }\n",
              "\n",
              "    .dataframe thead th {\n",
              "        text-align: right;\n",
              "    }\n",
              "</style>\n",
              "<table border=\"1\" class=\"dataframe\">\n",
              "  <thead>\n",
              "    <tr style=\"text-align: right;\">\n",
              "      <th></th>\n",
              "      <th>Pred</th>\n",
              "      <th>Actual</th>\n",
              "    </tr>\n",
              "  </thead>\n",
              "  <tbody>\n",
              "    <tr>\n",
              "      <th>0</th>\n",
              "      <td>1</td>\n",
              "      <td>0</td>\n",
              "    </tr>\n",
              "    <tr>\n",
              "      <th>1</th>\n",
              "      <td>0</td>\n",
              "      <td>0</td>\n",
              "    </tr>\n",
              "    <tr>\n",
              "      <th>2</th>\n",
              "      <td>0</td>\n",
              "      <td>1</td>\n",
              "    </tr>\n",
              "    <tr>\n",
              "      <th>3</th>\n",
              "      <td>0</td>\n",
              "      <td>1</td>\n",
              "    </tr>\n",
              "    <tr>\n",
              "      <th>4</th>\n",
              "      <td>0</td>\n",
              "      <td>1</td>\n",
              "    </tr>\n",
              "    <tr>\n",
              "      <th>...</th>\n",
              "      <td>...</td>\n",
              "      <td>...</td>\n",
              "    </tr>\n",
              "    <tr>\n",
              "      <th>931</th>\n",
              "      <td>1</td>\n",
              "      <td>1</td>\n",
              "    </tr>\n",
              "    <tr>\n",
              "      <th>932</th>\n",
              "      <td>1</td>\n",
              "      <td>1</td>\n",
              "    </tr>\n",
              "    <tr>\n",
              "      <th>933</th>\n",
              "      <td>1</td>\n",
              "      <td>1</td>\n",
              "    </tr>\n",
              "    <tr>\n",
              "      <th>934</th>\n",
              "      <td>1</td>\n",
              "      <td>1</td>\n",
              "    </tr>\n",
              "    <tr>\n",
              "      <th>935</th>\n",
              "      <td>0</td>\n",
              "      <td>0</td>\n",
              "    </tr>\n",
              "  </tbody>\n",
              "</table>\n",
              "<p>936 rows × 2 columns</p>\n",
              "</div>"
            ],
            "text/plain": [
              "     Pred  Actual\n",
              "0       1       0\n",
              "1       0       0\n",
              "2       0       1\n",
              "3       0       1\n",
              "4       0       1\n",
              "..    ...     ...\n",
              "931     1       1\n",
              "932     1       1\n",
              "933     1       1\n",
              "934     1       1\n",
              "935     0       0\n",
              "\n",
              "[936 rows x 2 columns]"
            ]
          },
          "metadata": {
            "tags": []
          },
          "execution_count": 35
        }
      ]
    },
    {
      "cell_type": "code",
      "metadata": {
        "id": "XGVeeSqhHJfM",
        "colab": {
          "base_uri": "https://localhost:8080/",
          "height": 204
        },
        "outputId": "3985e8c3-b8bb-47ce-93ed-5f9ca4b4bd58"
      },
      "source": [
        "df_metrics_closing_price_difference_arima = metrics_classification_report(df_trends['Actual'], df_trends['Pred'], 'Difference-' + str(trends_window_1_arima))\n",
        "df_metrics_closing_price_difference_arima"
      ],
      "execution_count": null,
      "outputs": [
        {
          "output_type": "execute_result",
          "data": {
            "text/html": [
              "<div>\n",
              "<style scoped>\n",
              "    .dataframe tbody tr th:only-of-type {\n",
              "        vertical-align: middle;\n",
              "    }\n",
              "\n",
              "    .dataframe tbody tr th {\n",
              "        vertical-align: top;\n",
              "    }\n",
              "\n",
              "    .dataframe thead th {\n",
              "        text-align: right;\n",
              "    }\n",
              "</style>\n",
              "<table border=\"1\" class=\"dataframe\">\n",
              "  <thead>\n",
              "    <tr style=\"text-align: right;\">\n",
              "      <th></th>\n",
              "      <th>Difference-5</th>\n",
              "    </tr>\n",
              "  </thead>\n",
              "  <tbody>\n",
              "    <tr>\n",
              "      <th>Accuracy</th>\n",
              "      <td>0.634615</td>\n",
              "    </tr>\n",
              "    <tr>\n",
              "      <th>F1</th>\n",
              "      <td>0.702091</td>\n",
              "    </tr>\n",
              "    <tr>\n",
              "      <th>Recall</th>\n",
              "      <td>0.686542</td>\n",
              "    </tr>\n",
              "    <tr>\n",
              "      <th>Precision</th>\n",
              "      <td>0.71836</td>\n",
              "    </tr>\n",
              "    <tr>\n",
              "      <th>Specificity</th>\n",
              "      <td>0.547278</td>\n",
              "    </tr>\n",
              "  </tbody>\n",
              "</table>\n",
              "</div>"
            ],
            "text/plain": [
              "            Difference-5\n",
              "Accuracy        0.634615\n",
              "F1              0.702091\n",
              "Recall          0.686542\n",
              "Precision        0.71836\n",
              "Specificity     0.547278"
            ]
          },
          "metadata": {
            "tags": []
          },
          "execution_count": 36
        }
      ]
    },
    {
      "cell_type": "code",
      "metadata": {
        "colab": {
          "base_uri": "https://localhost:8080/"
        },
        "id": "anNZkEUNxZAk",
        "outputId": "a85b4053-fe80-4248-f638-2de03e4e3ec4"
      },
      "source": [
        "actual_label, actual_label_count = np.unique(df_trends['Actual'], return_counts = True)\n",
        "data_dict = dict(zip(actual_label, actual_label_count))\n",
        "\n",
        "print('Actual labels: ', dict(zip(actual_label, actual_label_count)))\n",
        "forecasted_labels = df_trends['Pred']\n",
        "get_confusion_matrix = metrics.confusion_matrix(df_trends['Actual'], df_trends['Pred'])\n",
        "\n",
        "predicted_labels, predicted_label_counts = np.unique(df_trends['Pred'], return_counts = True)\n",
        "print('Predicted labels: ', dict(zip(predicted_labels, predicted_label_counts)))\n",
        "print(' ')\n",
        "print('Confusion matrix of predicted data:')\n",
        "print(pd.DataFrame(get_confusion_matrix))\n",
        "print(' ')\n",
        "\n",
        "for i in range(len(predicted_labels)):\n",
        "    print('Label {0} accuracy: {1:0.1f}%'.format(i, 100 * get_confusion_matrix[i,i]/actual_label_count[i]))"
      ],
      "execution_count": null,
      "outputs": [
        {
          "output_type": "stream",
          "text": [
            "Actual labels:  {0: 349, 1: 587}\n",
            "Predicted labels:  {0: 375, 1: 561}\n",
            " \n",
            "Confusion matrix of predicted data:\n",
            "     0    1\n",
            "0  191  158\n",
            "1  184  403\n",
            " \n",
            "Label 0 accuracy: 54.7%\n",
            "Label 1 accuracy: 68.7%\n"
          ],
          "name": "stdout"
        }
      ]
    },
    {
      "cell_type": "code",
      "metadata": {
        "id": "k_nip-a7yMd6"
      },
      "source": [
        "def plot_confusion_matrix(df_confusion_matrix):\n",
        "  fig = sns.heatmap(df_confusion_matrix, annot = True, fmt = 'g' )\n",
        "  fig.set_xlabel('Actual trends')\n",
        "  fig.set_ylabel('Predicted trends')\n",
        "  fig.set_title('Confusion Matrix ')\n",
        "  fig.xaxis.set_ticklabels(['Positives', 'Negatives'])\n",
        "  fig.yaxis.set_ticklabels(['Positives', 'Negatives'])"
      ],
      "execution_count": null,
      "outputs": []
    },
    {
      "cell_type": "code",
      "metadata": {
        "colab": {
          "base_uri": "https://localhost:8080/",
          "height": 464
        },
        "id": "HcljRU6qyacW",
        "outputId": "38c30d8d-1708-4da2-c9b8-c7e80f2b6898"
      },
      "source": [
        "plot_confusion_matrix(confusion_matrix(df_trends['Actual'], df_trends['Pred']))"
      ],
      "execution_count": null,
      "outputs": [
        {
          "output_type": "display_data",
          "data": {
            "image/png": "[encoded data removed]",
            "text/plain": [
              "<Figure size 1440x504 with 2 Axes>"
            ]
          },
          "metadata": {
            "tags": []
          }
        }
      ]
    },
    {
      "cell_type": "code",
      "metadata": {
        "id": "SCd7dxF_aZLw"
      },
      "source": [
        "spx = df_relevant_indicators['SPX Index']\n",
        "n_train = int(0.8*(len(spx)))\n",
        "df_spx = spx[n_train:]"
      ],
      "execution_count": null,
      "outputs": []
    },
    {
      "cell_type": "code",
      "metadata": {
        "id": "GCWX1gVxROG5"
      },
      "source": [
        "y = []\n",
        "for i in range(len(df_spx[trends_window_1_arima:])):\n",
        "  y.append(df_spx[trends_window_1_arima:][i])\n",
        "y = np.array(y)"
      ],
      "execution_count": null,
      "outputs": []
    },
    {
      "cell_type": "code",
      "metadata": {
        "id": "hlQTUR28hOB3"
      },
      "source": [
        "base = 100\n",
        "df = pd.DataFrame({'SXP Index' : y, 'LSTM' : df_trends['Pred'], 'Optimal': df_trends['Actual']})\n",
        "df['LSTMr'] = df['SXP Index'] * df['LSTM']\n",
        "df['Closing Price'] = base * (1 + df['SXP Index'].copy()/100).cumprod()\n",
        "df['Closing Price Bot'] = base * (1 + df['LSTMr'].copy()/100).cumprod()\n",
        "df['LSTMth'] = df['SXP Index'] * df['Optimal']"
      ],
      "execution_count": null,
      "outputs": []
    },
    {
      "cell_type": "code",
      "metadata": {
        "colab": {
          "base_uri": "https://localhost:8080/",
          "height": 364
        },
        "id": "LkZaMSIE2eip",
        "outputId": "3eed305a-6214-41df-c389-d21c1a66e0ce"
      },
      "source": [
        "plt.rcParams.update({'figure.figsize':(20,5), 'figure.dpi':100})\n",
        "plt.plot(df['Closing Price Bot'], color = 'blue', label = 'LSTM Prediction')\n",
        "plt.plot(df['Closing Price'], color = 'red', label = 'SPX Value')\n",
        "plt.legend()\n",
        "plt.show()"
      ],
      "execution_count": null,
      "outputs": [
        {
          "output_type": "display_data",
          "data": {
            "image/png": "[encoded data removed]",
            "text/plain": [
              "<Figure size 2000x500 with 1 Axes>"
            ]
          },
          "metadata": {
            "tags": []
          }
        }
      ]
    }
  ]
}